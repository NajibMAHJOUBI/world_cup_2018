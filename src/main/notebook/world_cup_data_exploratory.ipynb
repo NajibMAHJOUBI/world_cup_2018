{
 "cells": [
  {
   "cell_type": "code",
   "execution_count": 1,
   "metadata": {},
   "outputs": [],
   "source": [
    "from pyspark.sql.types import StructType, StructField, StringType, IntegerType, BooleanType, FloatType, ArrayType\n",
    "from pyspark.sql.functions import col"
   ]
  },
  {
   "cell_type": "code",
   "execution_count": 2,
   "metadata": {},
   "outputs": [],
   "source": [
    "schema = StructType([\n",
    "    StructField(\"year\", StringType(), True),\n",
    "    StructField(\"month\", StringType(), True),\n",
    "    StructField(\"date\", StringType(), True),\n",
    "    StructField(\"team_1\", StringType(), True),\n",
    "    StructField(\"team_2\", StringType(), True),\n",
    "    StructField(\"score_team_1\", IntegerType(), True),\n",
    "    StructField(\"score_team_2\", IntegerType(), True),\n",
    "    StructField(\"tournament\", StringType(), True),\n",
    "    StructField(\"country_played\", StringType(), True),\n",
    "    StructField(\"rating_moved\", StringType(), True),\n",
    "    StructField(\"rating_team_1\", StringType(), True),\n",
    "    StructField(\"rating_team_2\", StringType(), True),\n",
    "    StructField(\"rank_moved_team_1\", StringType(), True),\n",
    "    StructField(\"rank_moved_team_2\", StringType(), True),\n",
    "    StructField(\"rank_team_1\", StringType(), True),\n",
    "    StructField(\"rank_team_2\", StringType(), True)\n",
    "])"
   ]
  },
  {
   "cell_type": "code",
   "execution_count": 3,
   "metadata": {},
   "outputs": [
    {
     "name": "stdout",
     "output_type": "stream",
     "text": [
      "Number of matches during the world_cup: 64\n",
      "Number of preparation matches for the world_cup: 121\n",
      "Number of matches during the world_cup: 64\n",
      "Number of preparation matches for the world_cup: 121\n"
     ]
    }
   ],
   "source": [
    "years = [\"2010\", \"2006\"]\n",
    "for year in years:\n",
    "    data = (spark\n",
    "        .read\n",
    "        .csv(\"../data/{0}_World_Cup_results.tsv\".format(year), sep=\"\\t\", schema=schema, header=False))\n",
    "    data.count()\n",
    "    print(\"Number of matches during the world_cup: {0}\".format(data.filter(col(\"tournament\") == \"WC\").count()))\n",
    "    print(\"Number of preparation matches for the world_cup: {0}\".format(data.filter(col(\"tournament\") != \"WC\").count()))\n",
    "    \n",
    "    data.filter(col(\"tournament\") == \"WC\").coalesce(1).write.csv(\"../data/WORLD_CUP_FINAL_{0}\".format(year), sep=\"\\t\")\n",
    "    data.filter(col(\"tournament\") != \"WC\").coalesce(1).write.csv(\"../data/WORLD_CUP_PREPARATION_{0}\".format(year), sep=\"\\t\")"
   ]
  },
  {
   "cell_type": "code",
   "execution_count": null,
   "metadata": {},
   "outputs": [],
   "source": []
  }
 ],
 "metadata": {
  "kernelspec": {
   "display_name": "Python 2",
   "language": "python",
   "name": "python2"
  },
  "language_info": {
   "codemirror_mode": {
    "name": "ipython",
    "version": 2
   },
   "file_extension": ".py",
   "mimetype": "text/x-python",
   "name": "python",
   "nbconvert_exporter": "python",
   "pygments_lexer": "ipython2",
   "version": "2.7.14"
  }
 },
 "nbformat": 4,
 "nbformat_minor": 1
}
