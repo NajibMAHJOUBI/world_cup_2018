{
 "cells": [
  {
   "cell_type": "code",
   "execution_count": 3,
   "metadata": {},
   "outputs": [],
   "source": [
    "from pyspark.sql.types import StructType, StructField, StringType, ArrayType\n",
    "from pyspark.sql.functions import udf, col\n",
    "\n",
    "from itertools import combinations"
   ]
  },
  {
   "cell_type": "code",
   "execution_count": 47,
   "metadata": {},
   "outputs": [],
   "source": [
    "class WorldCupFirstRound:\n",
    "    def __init__(self, spark_session, model_classifier):\n",
    "        self.spark = spark_session\n",
    "        self.classification_model = model_classifier\n",
    "    \n",
    "    def __str__(self):\n",
    "        pass\n",
    "    \n",
    "    def run(self):\n",
    "        self.load_data_teams()\n",
    "        self.define_df_matches_by_group()\n",
    "    \n",
    "    def load_data_groups(self):\n",
    "        schema = StructType([\n",
    "            StructField(\"group\", StringType(), True),\n",
    "            StructField(\"country_1\", StringType(), True),\n",
    "            StructField(\"country_2\", StringType(), True),\n",
    "            StructField(\"country_3\", StringType(), True),\n",
    "            StructField(\"country_4\", StringType(), True)])\n",
    "        return self.spark.read.csv(\"../data/groups.csv\", sep=\",\", schema=schema, header=False)\n",
    "\n",
    "    def define_list_matches_by_group(self):\n",
    "        udf_define_matches = udf(lambda x,y,z,t: list(combinations([x, y, z, t], 2)), ArrayType(ArrayType(StringType())))\n",
    "        udf_matches_group = udf(lambda group, matches: [[group] + match for match in matches], ArrayType(ArrayType(StringType())))\n",
    "        all_matches = self.load_data_groups()\\\n",
    "        .withColumn(\"matches\", udf_define_matches(col(\"country_1\"), col(\"country_2\"), col(\"country_3\"), col(\"country_4\")))\\\n",
    "        .withColumn(\"group_matches\", udf_matches_group(col(\"group\"), col(\"matches\")))\\\n",
    "        .select(\"group_matches\").rdd.map(lambda x: x[\"group_matches\"])\\\n",
    "        .collect()\n",
    "        return [y for x in all_matches for y in x]\n",
    "    \n",
    "    def define_df_matches_by_group(self):\n",
    "        udf_trim = udf(lambda x: x.strip(), StringType())\n",
    "        list_matches_by_group = self.define_list_matches_by_group()\n",
    "        schema = schema = StructType([StructField(\"group\", StringType(), True), \n",
    "                                      StructField(\"country_1\", StringType(), True),\n",
    "                                      StructField(\"country_2\", StringType(), True)])\n",
    "        print(self.teams.rdd.first())\n",
    "        return (self.spark.createDataFrame(list_matches_by_group, schema=schema)\n",
    "                .select(col(\"group\"), udf_trim(col(\"country_1\")).alias(\"country_1\"), \n",
    "                                      udf_trim(col(\"country_2\")).alias(\"country_2\"))\n",
    "                .join(self.teams, col(\"country_1\") == col(\"country\"))\n",
    "                .drop(\"country\").drop(\"country_1\").withColumnRenamed(\"team\", \"team_1\")\n",
    "                .join(self.teams, col(\"country_2\") == col(\"country\"))\n",
    "                .drop(\"country\").drop(\"country_2\").withColumnRenamed(\"team\", \"team_2\"))\n",
    "    \n",
    "    def load_data_teams(self):\n",
    "        schema = StructType([\n",
    "            StructField(\"team\", StringType(), True),\n",
    "            StructField(\"country\", StringType(), True)])\n",
    "        self.teams = spark.read.csv(\"../data/common/en.teams.tsv\", sep=\"\\t\", header=False, schema=schema)\n",
    "    "
   ]
  },
  {
   "cell_type": "code",
   "execution_count": 48,
   "metadata": {},
   "outputs": [
    {
     "name": "stdout",
     "output_type": "stream",
     "text": [
      "Row(team=u'AN', country=u'Aden')\n",
      "+-----+------+------+\n",
      "|group|team_1|team_2|\n",
      "+-----+------+------+\n",
      "|    A|    BR|    HR|\n",
      "|    A|    BR|    MX|\n",
      "|    A|    BR|    CM|\n",
      "|    A|    HR|    MX|\n",
      "|    A|    HR|    CM|\n",
      "+-----+------+------+\n",
      "only showing top 5 rows\n",
      "\n",
      "None\n"
     ]
    }
   ],
   "source": [
    "world_cup_1st_round = WorldCupFirstRound(spark, None)\n",
    "world_cup_1st_round.run()"
   ]
  },
  {
   "cell_type": "code",
   "execution_count": 21,
   "metadata": {},
   "outputs": [
    {
     "data": {
      "text/plain": [
       "[[u'A', u' Brazil', u' Croatia'],\n",
       " [u'A', u' Brazil', u' Mexico'],\n",
       " [u'A', u' Brazil', u' Cameroon'],\n",
       " [u'A', u' Croatia', u' Mexico'],\n",
       " [u'A', u' Croatia', u' Cameroon'],\n",
       " [u'A', u' Mexico', u' Cameroon'],\n",
       " [u'B', u' Spain', u' Holland'],\n",
       " [u'B', u' Spain', u' Chile'],\n",
       " [u'B', u' Spain', u' Australia'],\n",
       " [u'B', u' Holland', u' Chile'],\n",
       " [u'B', u' Holland', u' Australia'],\n",
       " [u'B', u' Chile', u' Australia'],\n",
       " [u'C', u' Colombia', u' Greece'],\n",
       " [u'C', u' Colombia', u' Ivory Coast'],\n",
       " [u'C', u' Colombia', u' Japan'],\n",
       " [u'C', u' Greece', u' Ivory Coast'],\n",
       " [u'C', u' Greece', u' Japan'],\n",
       " [u'C', u' Ivory Coast', u' Japan'],\n",
       " [u'D', u' Uruguay', u' Costa Rica'],\n",
       " [u'D', u' Uruguay', u' England'],\n",
       " [u'D', u' Uruguay', u' Italy'],\n",
       " [u'D', u' Costa Rica', u' England'],\n",
       " [u'D', u' Costa Rica', u' Italy'],\n",
       " [u'D', u' England', u' Italy'],\n",
       " [u'E', u' Switzerland', u' Ecuador'],\n",
       " [u'E', u' Switzerland', u' France'],\n",
       " [u'E', u' Switzerland', u' Honduras'],\n",
       " [u'E', u' Ecuador', u' France'],\n",
       " [u'E', u' Ecuador', u' Honduras'],\n",
       " [u'E', u' France', u' Honduras'],\n",
       " [u'F', u' Argentina', u' Bosnia-Herzegovina'],\n",
       " [u'F', u' Argentina', u' Iran'],\n",
       " [u'F', u' Argentina', u' Nigeria'],\n",
       " [u'F', u' Bosnia-Herzegovina', u' Iran'],\n",
       " [u'F', u' Bosnia-Herzegovina', u' Nigeria'],\n",
       " [u'F', u' Iran', u' Nigeria'],\n",
       " [u'G', u' Germany', u' Portugal'],\n",
       " [u'G', u' Germany', u' Ghana'],\n",
       " [u'G', u' Germany', u' USA'],\n",
       " [u'G', u' Portugal', u' Ghana'],\n",
       " [u'G', u' Portugal', u' USA'],\n",
       " [u'G', u' Ghana', u' USA'],\n",
       " [u'H', u' Belgium', u' Algeria'],\n",
       " [u'H', u' Belgium', u' Russia'],\n",
       " [u'H', u' Belgium', u' South Korea'],\n",
       " [u'H', u' Algeria', u' Russia'],\n",
       " [u'H', u' Algeria', u' South Korea'],\n",
       " [u'H', u' Russia', u' South Korea']]"
      ]
     },
     "execution_count": 21,
     "metadata": {},
     "output_type": "execute_result"
    }
   ],
   "source": [
    "world_cup_1st_round.define_list_matches_by_group()"
   ]
  },
  {
   "cell_type": "code",
   "execution_count": 22,
   "metadata": {},
   "outputs": [],
   "source": [
    "udf_define_matches = udf(lambda x,y,z,t: list(combinations([x, y, z, t], 2)), ArrayType(ArrayType(StringType())))"
   ]
  },
  {
   "cell_type": "code",
   "execution_count": 4,
   "metadata": {},
   "outputs": [],
   "source": [
    "data = data.withColumn(\"matches\", udf_define_matches(col(\"team_1\"), col(\"team_2\"), col(\"team_3\"), col(\"team_4\")))"
   ]
  },
  {
   "cell_type": "code",
   "execution_count": 5,
   "metadata": {},
   "outputs": [],
   "source": [
    "udf_matches_group = udf(lambda group, matches: [[group] + match for match in matches], ArrayType(ArrayType(StringType())))\n",
    "\n",
    "\n",
    "all_matches = data\\\n",
    ".withColumn(\"group_matches\", udf_matches_group(col(\"group\"), col(\"matches\")))\\\n",
    ".select(\"group_matches\").rdd.map(lambda x: x[\"group_matches\"]).collect()\n",
    "\n",
    "matches_flattened_list = [y for x in all_matches for y in x]"
   ]
  },
  {
   "cell_type": "code",
   "execution_count": 6,
   "metadata": {},
   "outputs": [
    {
     "name": "stdout",
     "output_type": "stream",
     "text": [
      "+-----+--------+---------+\n",
      "|group|  team_1|   team_2|\n",
      "+-----+--------+---------+\n",
      "|    A|  Brazil|  Croatia|\n",
      "|    A|  Brazil|   Mexico|\n",
      "|    A|  Brazil| Cameroon|\n",
      "|    A| Croatia|   Mexico|\n",
      "|    A| Croatia| Cameroon|\n",
      "+-----+--------+---------+\n",
      "only showing top 5 rows\n",
      "\n"
     ]
    }
   ],
   "source": [
    "schema = schema = StructType([\n",
    "    StructField(\"group\", StringType(), True), \n",
    "    StructField(\"team_1\", StringType(), True),\n",
    "    StructField(\"team_2\", StringType(), True),\n",
    "])\n",
    "\n",
    "matches = spark.createDataFrame(matches_flattened_list, schema=schema)\n",
    "\n",
    "matches.show(5)"
   ]
  },
  {
   "cell_type": "code",
   "execution_count": 7,
   "metadata": {},
   "outputs": [],
   "source": [
    "#matches.coalesce(1).write.csv(\"../data/first_round_matches\")"
   ]
  },
  {
   "cell_type": "markdown",
   "metadata": {},
   "source": [
    "## First round define all matches"
   ]
  },
  {
   "cell_type": "code",
   "execution_count": 13,
   "metadata": {},
   "outputs": [
    {
     "name": "stdout",
     "output_type": "stream",
     "text": [
      "+-----+-------+--------+\n",
      "|group| team_1|  team_2|\n",
      "+-----+-------+--------+\n",
      "|    A| Brazil| Croatia|\n",
      "|    A| Brazil|  Mexico|\n",
      "|    A| Brazil|Cameroon|\n",
      "|    A|Croatia|  Mexico|\n",
      "|    A|Croatia|Cameroon|\n",
      "|    A| Mexico|Cameroon|\n",
      "+-----+-------+--------+\n",
      "\n",
      "+-----+------+--------+\n",
      "|group|team_1|  team_2|\n",
      "+-----+------+--------+\n",
      "|    A|Brazil| Croatia|\n",
      "|    A|Brazil|  Mexico|\n",
      "|    A|Brazil|Cameroon|\n",
      "+-----+------+--------+\n",
      "\n",
      "+-----+------+------+\n",
      "|group|team_1|team_2|\n",
      "+-----+------+------+\n",
      "+-----+------+------+\n",
      "\n"
     ]
    }
   ],
   "source": [
    "schema = StructType([\n",
    "    StructField(\"group\", StringType(), True),\n",
    "    StructField(\"team_1\", StringType(), True),\n",
    "    StructField(\"team_2\", StringType(), True)])\n",
    "all_matches = spark.read.csv(\"../data/first_round_matches/\", sep=\",\", header=False, schema=schema)\n",
    "all_matches.filter(col(\"group\") == \"A\").show()\n",
    "all_matches.filter(col(\"team_1\") == \"Brazil\").show()\n",
    "all_matches.filter(col(\"team_2\") == \"Brazil\").show()"
   ]
  },
  {
   "cell_type": "code",
   "execution_count": 14,
   "metadata": {},
   "outputs": [
    {
     "name": "stdout",
     "output_type": "stream",
     "text": [
      "Groups: [u'F', u'E', u'B', u'D', u'C', u'A', u'G', u'H']\n"
     ]
    }
   ],
   "source": [
    "groups = all_matches.select(\"group\").distinct().rdd.map(lambda x: x[\"group\"]).collect()\n",
    "print(\"Groups: {0}\".format(groups))"
   ]
  },
  {
   "cell_type": "code",
   "execution_count": 18,
   "metadata": {},
   "outputs": [],
   "source": [
    "dic_matches = {group:{} for group in groups}\n",
    "rdd_matches = all_matches.rdd.map(lambda x: (x[\"group\"], x[\"team_1\"], x[\"team_2\"])).collect()\n",
    "for group in dic_matches.keys():\n",
    "    group_matches = filter(lambda x: x[0] == group, rdd_matches)\n",
    "    for matches in group_matches:\n",
    "        team_1 = matches[1]\n",
    "        team_2 = matches[2]\n",
    "        dic_matches[group][team_1+'/'+team_2] = None"
   ]
  },
  {
   "cell_type": "code",
   "execution_count": 20,
   "metadata": {},
   "outputs": [
    {
     "data": {
      "text/plain": [
       "{u'Brazil/Cameroon': None,\n",
       " u'Brazil/Croatia': None,\n",
       " u'Brazil/Mexico': None,\n",
       " u'Croatia/Cameroon': None,\n",
       " u'Croatia/Mexico': None,\n",
       " u'Mexico/Cameroon': None}"
      ]
     },
     "execution_count": 20,
     "metadata": {},
     "output_type": "execute_result"
    }
   ],
   "source": [
    "dic_matches[\"A\"]"
   ]
  },
  {
   "cell_type": "code",
   "execution_count": null,
   "metadata": {},
   "outputs": [],
   "source": []
  }
 ],
 "metadata": {
  "kernelspec": {
   "display_name": "Python 2",
   "language": "python",
   "name": "python2"
  },
  "language_info": {
   "codemirror_mode": {
    "name": "ipython",
    "version": 2
   },
   "file_extension": ".py",
   "mimetype": "text/x-python",
   "name": "python",
   "nbconvert_exporter": "python",
   "pygments_lexer": "ipython2",
   "version": "2.7.14"
  }
 },
 "nbformat": 4,
 "nbformat_minor": 1
}
