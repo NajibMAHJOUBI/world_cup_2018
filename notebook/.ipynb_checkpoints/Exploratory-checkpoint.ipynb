{
 "cells": [
  {
   "cell_type": "code",
   "execution_count": 13,
   "metadata": {
    "collapsed": true
   },
   "outputs": [],
   "source": [
    "from pyspark.sql.types import StructType, StructField, StringType\n",
    "from pyspark.sql.functions import col"
   ]
  },
  {
   "cell_type": "code",
   "execution_count": 6,
   "metadata": {
    "collapsed": true
   },
   "outputs": [],
   "source": [
    "schema = StructType([\n",
    "    StructField(\"id\", StringType(), True),\n",
    "    StructField(\"country\", StringType(), True)])\n",
    "teams = spark.read.csv(\"../data/AFC/en.teams.tsv\", sep=\"\\t\", header=False, schema=schema)"
   ]
  },
  {
   "cell_type": "code",
   "execution_count": 17,
   "metadata": {},
   "outputs": [
    {
     "name": "stdout",
     "output_type": "stream",
     "text": [
      "Dataset teams format: [('id', 'string'), ('country', 'string')]\n",
      "Number of country: 313\n",
      "Country with similar id string:\n",
      "+---+-----+\n",
      "| id|count|\n",
      "+---+-----+\n",
      "+---+-----+\n",
      "\n",
      "Preview of the dataset:\n",
      "+---+-----------+\n",
      "| id|    country|\n",
      "+---+-----------+\n",
      "| AN|       Aden|\n",
      "| AF|Afghanistan|\n",
      "| AL|    Albania|\n",
      "| DZ|    Algeria|\n",
      "| AD|    Andorra|\n",
      "+---+-----------+\n",
      "only showing top 5 rows\n",
      "\n"
     ]
    }
   ],
   "source": [
    "print(\"Dataset teams format: {0}\".format(teams.dtypes))\n",
    "print(\"Number of country: {0}\".format(teams.count()))\n",
    "# Check if some countries are identified with the same id\n",
    "print(\"Country with similar id string:\")\n",
    "teams.groupBy(\"id\").count().filter(col(\"count\") != 1).show()\n",
    "print(\"Preview of the dataset:\")\n",
    "teams.show(5)\n"
   ]
  },
  {
   "cell_type": "code",
   "execution_count": null,
   "metadata": {
    "collapsed": true
   },
   "outputs": [],
   "source": []
  }
 ],
 "metadata": {
  "kernelspec": {
   "display_name": "Python 2",
   "language": "python",
   "name": "python2"
  },
  "language_info": {
   "codemirror_mode": {
    "name": "ipython",
    "version": 2
   },
   "file_extension": ".py",
   "mimetype": "text/x-python",
   "name": "python",
   "nbconvert_exporter": "python",
   "pygments_lexer": "ipython2",
   "version": "2.7.13"
  }
 },
 "nbformat": 4,
 "nbformat_minor": 1
}
