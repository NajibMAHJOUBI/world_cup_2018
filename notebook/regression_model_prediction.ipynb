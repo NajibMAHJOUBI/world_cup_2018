{
 "cells": [
  {
   "cell_type": "code",
   "execution_count": null,
   "metadata": {},
   "outputs": [],
   "source": [
    "import numpy as np\n",
    "from pyspark.sql.types import StructType, StructField, StringType, IntegerType, FloatType, DoubleType\n",
    "from pyspark.sql.functions import col, udf\n",
    "from pyspark.ml.evaluation import MulticlassClassificationEvaluator"
   ]
  },
  {
   "cell_type": "code",
   "execution_count": 2,
   "metadata": {},
   "outputs": [],
   "source": [
    "path = \"/home/mahjoubi/Documents/github/world_cup_2018/test/transform/regression_model/2014\""
   ]
  },
  {
   "cell_type": "code",
   "execution_count": 3,
   "metadata": {},
   "outputs": [],
   "source": [
    "regression_models = [\"linear_regression\", \"decision_tree\", \"random_forest\", \"gbt_regressor\"]"
   ]
  },
  {
   "cell_type": "code",
   "execution_count": 4,
   "metadata": {},
   "outputs": [],
   "source": [
    "schema =  StructType([\n",
    "            StructField(\"id\", DoubleType(), True),\n",
    "            StructField(\"label\", DoubleType(), True),\n",
    "            StructField(\"prediction\", DoubleType(), True)])"
   ]
  },
  {
   "cell_type": "code",
   "execution_count": 18,
   "metadata": {},
   "outputs": [],
   "source": [
    "def get_prediction(x, threshold):\n",
    "    if float(np.abs(x)) <= threshold:\n",
    "        return 0.0\n",
    "    elif x > threshold:\n",
    "        return 2.0\n",
    "    elif x < -1.0 * threshold:\n",
    "        return 1.0\n",
    "    \n",
    "udf_prediction = udf(lambda x: get_prediction(x, threshold), DoubleType())"
   ]
  },
  {
   "cell_type": "code",
   "execution_count": 19,
   "metadata": {},
   "outputs": [],
   "source": [
    "evaluator = MulticlassClassificationEvaluator(predictionCol=\"prediction\", labelCol=\"label\", metricName=\"accuracy\")"
   ]
  },
  {
   "cell_type": "code",
   "execution_count": 28,
   "metadata": {},
   "outputs": [
    {
     "name": "stdout",
     "output_type": "stream",
     "text": [
      "threshold: 0.1\n",
      "linear_regression: 0.579150579151,  decision_tree: 0.58832046332,  random_forest: 0.601833976834,  gbt_regressor: 0.616312741313,  \n",
      "threshold: 0.25\n",
      "linear_regression: 0.583976833977,  decision_tree: 0.58832046332,  random_forest: 0.598938223938,  gbt_regressor: 0.61583011583,  \n",
      "threshold: 0.5\n",
      "linear_regression: 0.560328185328,  decision_tree: 0.585424710425,  random_forest: 0.574806949807,  gbt_regressor: 0.602799227799,  \n",
      "threshold: 0.75\n",
      "linear_regression: 0.513513513514,  decision_tree: 0.553088803089,  random_forest: 0.540057915058,  gbt_regressor: 0.583494208494,  \n",
      "threshold: 1.0\n",
      "linear_regression: 0.464285714286,  decision_tree: 0.422297297297,  random_forest: 0.492760617761,  gbt_regressor: 0.535714285714,  \n"
     ]
    }
   ],
   "source": [
    "dic_data = {}\n",
    "for threshold in [0.1, 0.25, 0.5, 0.75, 1.0]:\n",
    "    print(\"threshold: {0}\".format(threshold))\n",
    "    for regression in [\"linear_regression\", \"decision_tree\", \"random_forest\", \"gbt_regressor\"]:\n",
    "        udf_prediction = udf(lambda x: get_prediction(x, threshold), DoubleType())\n",
    "        transform = (spark.read.csv(os.path.join(path, regression), header=True, schema=schema)\n",
    "                .withColumnRenamed(\"prediction\", \"diff_point\")\n",
    "                .withColumn(\"prediction\", udf_prediction(col(\"diff_point\"))))\n",
    "        dic_data[regression] = transform.withColumnRenamed(\"diff_point\", regression) #.drop(\"prediction\")\n",
    "        #     dic_data[regression].show(5)\n",
    "        print(\"{0}: {1}, \".format(regression, evaluator.evaluate(transform))),\n",
    "    print(\"\")\n",
    "        #     dic_data[regression].groupBy(\"prediction\").count().show()"
   ]
  },
  {
   "cell_type": "code",
   "execution_count": 25,
   "metadata": {},
   "outputs": [],
   "source": [
    "keys = dic_data.keys()\n",
    "data = dic_data[keys[0]].drop(\"prediction\")\n",
    "for key in keys[1:]:\n",
    "    data = data.join(dic_data[key].drop(\"label\").drop(\"prediction\"), on=\"id\")"
   ]
  },
  {
   "cell_type": "code",
   "execution_count": 26,
   "metadata": {},
   "outputs": [
    {
     "name": "stdout",
     "output_type": "stream",
     "text": [
      "+------+-----+-------------------+------------------+-------------------+-------------------+\n",
      "|    id|label|  linear_regression|     decision_tree|      gbt_regressor|      random_forest|\n",
      "+------+-----+-------------------+------------------+-------------------+-------------------+\n",
      "|1659.0|  0.0|  2.046165815269463|1.9066666666666667| 1.6222924102693044|  2.117691399663445|\n",
      "| 295.0|  0.0| 0.2668095739650328|0.5215311004784688| 0.5137104972870641| 0.3967606393942596|\n",
      "| 888.0|  0.0| 0.2275194770319885|0.5215311004784688|0.17202622632228662|0.19120766749424767|\n",
      "|1103.0|  0.0| 1.3884214994383401| 0.992867332382311| 1.1842599089851558| 1.2288847218732601|\n",
      "|1533.0|  0.0|0.33472604811520623|0.5215311004784688| 0.6654867996158518| 0.4784945178222387|\n",
      "+------+-----+-------------------+------------------+-------------------+-------------------+\n",
      "only showing top 5 rows\n",
      "\n"
     ]
    }
   ],
   "source": [
    "data.show(5)"
   ]
  },
  {
   "cell_type": "code",
   "execution_count": 36,
   "metadata": {},
   "outputs": [],
   "source": [
    "threshold = 0.25\n",
    "udf_prediction = udf(lambda x: get_prediction(x, threshold), DoubleType())\n",
    "udf_mean = udf(lambda x, y, z, t: (x + y + z + t) / 4.0, DoubleType())\n",
    "transform = (data\n",
    " .withColumn(\"diff_points\", udf_mean(col(\"linear_regression\"), col(\"decision_tree\"), \n",
    "                                     col(\"gbt_regressor\"), col(\"random_forest\")))\n",
    " .withColumn(\"prediction\", udf_prediction(col(\"diff_points\"))))"
   ]
  },
  {
   "cell_type": "code",
   "execution_count": 37,
   "metadata": {},
   "outputs": [
    {
     "data": {
      "text/plain": [
       "0.6023166023166023"
      ]
     },
     "execution_count": 37,
     "metadata": {},
     "output_type": "execute_result"
    }
   ],
   "source": [
    "evaluator.evaluate(transform)"
   ]
  },
  {
   "cell_type": "code",
   "execution_count": 38,
   "metadata": {},
   "outputs": [
    {
     "name": "stdout",
     "output_type": "stream",
     "text": [
      "+----------+-----+\n",
      "|prediction|count|\n",
      "+----------+-----+\n",
      "|       0.0|  289|\n",
      "|       1.0|  193|\n",
      "|       2.0| 1590|\n",
      "+----------+-----+\n",
      "\n"
     ]
    }
   ],
   "source": [
    "transform.groupBy(\"prediction\").count().show()"
   ]
  },
  {
   "cell_type": "code",
   "execution_count": 39,
   "metadata": {},
   "outputs": [
    {
     "name": "stdout",
     "output_type": "stream",
     "text": [
      "+-----+-----+\n",
      "|label|count|\n",
      "+-----+-----+\n",
      "|  0.0|  515|\n",
      "|  1.0|  391|\n",
      "|  2.0| 1166|\n",
      "+-----+-----+\n",
      "\n"
     ]
    }
   ],
   "source": [
    "transform.groupBy(\"label\").count().show()"
   ]
  },
  {
   "cell_type": "code",
   "execution_count": null,
   "metadata": {},
   "outputs": [],
   "source": []
  }
 ],
 "metadata": {
  "kernelspec": {
   "display_name": "Python [Root]",
   "language": "python",
   "name": "Python [Root]"
  },
  "language_info": {
   "codemirror_mode": {
    "name": "ipython",
    "version": 2
   },
   "file_extension": ".py",
   "mimetype": "text/x-python",
   "name": "python",
   "nbconvert_exporter": "python",
   "pygments_lexer": "ipython2",
   "version": "2.7.12"
  }
 },
 "nbformat": 4,
 "nbformat_minor": 1
}
