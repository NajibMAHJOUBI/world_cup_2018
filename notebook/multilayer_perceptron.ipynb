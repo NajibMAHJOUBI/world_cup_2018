{
 "cells": [
  {
   "cell_type": "markdown",
   "metadata": {},
   "source": [
    "## Import libraries"
   ]
  },
  {
   "cell_type": "code",
   "execution_count": 1,
   "metadata": {},
   "outputs": [],
   "source": [
    "# pyspark libraries\n",
    "from pyspark.sql.types import StructType, StructField, StringType, IntegerType, BooleanType, FloatType, ArrayType\n",
    "from pyspark.sql.functions import col, udf, when\n",
    "from pyspark.ml.linalg import Vectors, VectorUDT\n",
    "from pyspark.ml.classification import MultilayerPerceptronClassifier, MultilayerPerceptronClassificationModel\n",
    "from pyspark.ml.evaluation import MulticlassClassificationEvaluator\n",
    "from pyspark.ml.tuning import CrossValidator\n",
    "from pyspark.ml.tuning import TrainValidationSplit\n",
    "from pyspark.ml.tuning import ParamGridBuilder\n",
    "\n",
    "# python libraries\n",
    "import numpy as np"
   ]
  },
  {
   "cell_type": "markdown",
   "metadata": {},
   "source": [
    "## User Defined Functions"
   ]
  },
  {
   "cell_type": "code",
   "execution_count": 2,
   "metadata": {},
   "outputs": [],
   "source": [
    "def convert_string_to_float(x):\n",
    "    x_replace_minus = x.replace(u'\\u2212', '-')\n",
    "    if x_replace_minus == '-':\n",
    "        return np.nan\n",
    "    else:\n",
    "        return float(x_replace_minus)\n",
    "\n",
    "udf_convert_string_to_float = udf(lambda x: convert_string_to_float(x), FloatType())"
   ]
  },
  {
   "cell_type": "code",
   "execution_count": 3,
   "metadata": {},
   "outputs": [],
   "source": [
    "udf_get_percentage_game = udf(lambda x, y: x / y, FloatType())"
   ]
  },
  {
   "cell_type": "code",
   "execution_count": 4,
   "metadata": {},
   "outputs": [],
   "source": [
    "udf_create_features = udf(lambda s,t,u,v,w,x,y,z: Vectors.dense([s,t,u,v,w,x,y,z]), VectorUDT())"
   ]
  },
  {
   "cell_type": "code",
   "execution_count": 5,
   "metadata": {},
   "outputs": [],
   "source": [
    "def get_date_string(date, month, year):\n",
    "    return year + \"/\" + month + \"/\" + date\n",
    "\n",
    "udf_get_date_string = udf(lambda date, month, year: get_date_string(date, month, year), StringType())"
   ]
  },
  {
   "cell_type": "code",
   "execution_count": 6,
   "metadata": {},
   "outputs": [],
   "source": [
    "def win_team_1(score_team_1, score_team_2):\n",
    "    if score_team_1 > score_team_2:\n",
    "        return 2.0\n",
    "    elif score_team_1 < score_team_2:\n",
    "        return 1.0\n",
    "    else:\n",
    "        return 0.0\n",
    "    \n",
    "udf_win_team_1 = udf(lambda team_1, team_2: win_team_1(team_1, team_2), FloatType())"
   ]
  },
  {
   "cell_type": "code",
   "execution_count": 7,
   "metadata": {},
   "outputs": [],
   "source": [
    "udf_diff_features = udf(lambda features_1, features_2: features_1 - features_2, VectorUDT())"
   ]
  },
  {
   "cell_type": "code",
   "execution_count": 8,
   "metadata": {},
   "outputs": [],
   "source": [
    "schema = StructType([\n",
    "    StructField(\"rankGroup_local\", StringType(), True),\n",
    "    StructField(\"rankGroup_global\", StringType(), True),\n",
    "    StructField(\"teamGroup_team\", StringType(), True),\n",
    "    StructField(\"ratingGroup_rating\", StringType(), True),\n",
    "    StructField(\"highestGroup_rank_max\", StringType(), True),\n",
    "    StructField(\"highestGroup_rating_max\", StringType(), True),\n",
    "    StructField(\"averageGroup_rank_avg\", StringType(), True),\n",
    "    StructField(\"averageGroup_rating_avg\", StringType(), True),\n",
    "    StructField(\"lowestGroup_rank_min\", StringType(), True),\n",
    "    StructField(\"lowestGroup_rating_min\", StringType(), True),\n",
    "    StructField(\"change3mGroup_rank_three_month_change\", StringType(), True),\n",
    "    StructField(\"change3mGroup_rating_three_month_change\", StringType(), True),\n",
    "    StructField(\"change6mGroup_rank_six_month_change\", StringType(), True),\n",
    "    StructField(\"change6mGroup_rating_six_month_change\", StringType(), True),\n",
    "    StructField(\"change1yGroup_rank_one_year_change\", StringType(), True),\n",
    "    StructField(\"change1yGroup_rating_one_year_change\", StringType(), True),\n",
    "    StructField(\"change2yGroup_rank_two_year_change\", StringType(), True),\n",
    "    StructField(\"change2yGroup_rating_two_year_change\", StringType(), True),\n",
    "    StructField(\"change5yGroup_rank_five_year_change\", StringType(), True),\n",
    "    StructField(\"change5yGroup_rating_five_year_change\", StringType(), True),\n",
    "    StructField(\"change10yGroup_rank_ten_year_change\", StringType(), True),\n",
    "    StructField(\"change10yGroup_rating_ten_year_change\", StringType(), True),\n",
    "    StructField(\"matchesGroup_total\", StringType(), True),\n",
    "    StructField(\"matchesGroup_home\", StringType(), True),\n",
    "    StructField(\"matchesGroup_away\", StringType(), True),\n",
    "    StructField(\"matchesGroup_neutral\", StringType(), True),\n",
    "    StructField(\"matchesGroup_wins\", StringType(), True),\n",
    "    StructField(\"matchesGroup_losses\", StringType(), True),\n",
    "    StructField(\"matchesGroup_draws\", StringType(), True),\n",
    "    StructField(\"goalsGroup_for\", StringType(), True),\n",
    "    StructField(\"goalsGroup_against\", StringType(), True)\n",
    "])\n",
    "\n",
    "names_to_convert = schema.names\n",
    "names_to_convert.remove(\"teamGroup_team\")\n",
    "\n",
    "\n",
    "AFC_qualifying_start = spark.read.csv(\"../data/AFC/2014_World_Cup_AFC_qualifying_start.tsv\", sep=\"\\t\", \n",
    "                                      schema=schema, header=False)\\\n",
    "                                 .select([udf_convert_string_to_float(col(name)).alias(name) for name in names_to_convert] + [\"teamGroup_team\"])"
   ]
  },
  {
   "cell_type": "code",
   "execution_count": 9,
   "metadata": {},
   "outputs": [
    {
     "name": "stdout",
     "output_type": "stream",
     "text": [
      "+----+------------+------------+---------------+------------+--------------+-------------+-----------+---------------+\n",
      "|team|matches_home|matches_away|matches_neutral|matches_wins|matches_losses|matches_draws|matches_for|matches_against|\n",
      "+----+------------+------------+---------------+------------+--------------+-------------+-----------+---------------+\n",
      "|  JP|  0.37785017|    0.252443|     0.36970684|  0.45114008|    0.32899022|    0.2198697|  1.6905538|       1.223127|\n",
      "|  KR|  0.31050768|  0.23966943|      0.4498229|   0.5478158|    0.20070839|    0.2514758|   1.853601|      0.9020071|\n",
      "|  AU|   0.4437086|   0.3620309|      0.1942605|   0.5121413|    0.27593818|   0.21192053|   2.039735|      1.1037527|\n",
      "|  IR|        0.34|       0.278|          0.382|       0.546|         0.218|        0.236|       1.87|          0.826|\n",
      "|  CN|  0.33032492|  0.33754513|     0.33212996|  0.51805055|    0.27436823|   0.20758122|  1.9801444|      1.0361011|\n",
      "+----+------------+------------+---------------+------------+--------------+-------------+-----------+---------------+\n",
      "only showing top 5 rows\n",
      "\n"
     ]
    }
   ],
   "source": [
    "AFC_qualifying_start = AFC_qualifying_start\\\n",
    ".withColumn(\"matches_home\",    udf_get_percentage_game(col(\"matchesGroup_home\"), col(\"matchesGroup_total\")))\\\n",
    ".withColumn(\"matches_away\",    udf_get_percentage_game(col(\"matchesGroup_away\"), col(\"matchesGroup_total\")))\\\n",
    ".withColumn(\"matches_neutral\", udf_get_percentage_game(col(\"matchesGroup_neutral\"), col(\"matchesGroup_total\")))\\\n",
    ".withColumn(\"matches_wins\",    udf_get_percentage_game(col(\"matchesGroup_wins\"), col(\"matchesGroup_total\")))\\\n",
    ".withColumn(\"matches_losses\",  udf_get_percentage_game(col(\"matchesGroup_losses\"), col(\"matchesGroup_total\")))\\\n",
    ".withColumn(\"matches_draws\",  udf_get_percentage_game(col(\"matchesGroup_draws\"), col(\"matchesGroup_total\")))\\\n",
    ".withColumn(\"matches_for\",    udf_get_percentage_game(col(\"goalsGroup_for\"), col(\"matchesGroup_total\")))\\\n",
    ".withColumn(\"matches_against\",  udf_get_percentage_game(col(\"goalsGroup_against\"), col(\"matchesGroup_total\")))\\\n",
    ".select(col(\"teamGroup_team\").alias(\"team\"), col(\"matches_home\"), col(\"matches_away\"), col(\"matches_neutral\"), \n",
    "        col(\"matches_wins\"), col(\"matches_losses\"), col(\"matches_draws\"),\n",
    "        col(\"matches_for\"), col(\"matches_against\"))\n",
    "\n",
    "AFC_qualifying_start.show(5)\n"
   ]
  },
  {
   "cell_type": "code",
   "execution_count": 10,
   "metadata": {},
   "outputs": [],
   "source": [
    "AFC_qualifying_start = AFC_qualifying_start\\\n",
    ".withColumn(\"features\", udf_create_features(col(\"matches_home\"), col(\"matches_away\"), col(\"matches_neutral\"),\n",
    "                                            col(\"matches_wins\"), col(\"matches_losses\"), col(\"matches_draws\"),\n",
    "                                            col(\"matches_for\"),  col(\"matches_against\")))\\\n",
    ".select(\"team\", \"features\")\n",
    "\n",
    "# AFC_qualifying_start.show(5, truncate=True)"
   ]
  },
  {
   "cell_type": "code",
   "execution_count": 11,
   "metadata": {},
   "outputs": [
    {
     "data": {
      "text/plain": [
       "DenseVector([1.0, 2.0, 3.0, 5.0])"
      ]
     },
     "execution_count": 11,
     "metadata": {},
     "output_type": "execute_result"
    }
   ],
   "source": [
    "Vectors.dense([1,2,3,5])"
   ]
  },
  {
   "cell_type": "code",
   "execution_count": 12,
   "metadata": {},
   "outputs": [],
   "source": [
    "schema = StructType([\n",
    "    StructField(\"year\", StringType(), True),\n",
    "    StructField(\"month\", StringType(), True),\n",
    "    StructField(\"date\", StringType(), True),\n",
    "    StructField(\"team_1\", StringType(), True),\n",
    "    StructField(\"team_2\", StringType(), True),\n",
    "    StructField(\"score_team_1\", IntegerType(), True),\n",
    "    StructField(\"score_team_2\", IntegerType(), True),\n",
    "    StructField(\"tournament\", StringType(), True),\n",
    "    StructField(\"country_played\", StringType(), True),\n",
    "    StructField(\"rating_moved\", StringType(), True),\n",
    "    StructField(\"rating_team_1\", StringType(), True),\n",
    "    StructField(\"rating_team_2\", StringType(), True),\n",
    "    StructField(\"rank_moved_team_1\", StringType(), True),\n",
    "    StructField(\"rank_moved_team_2\", StringType(), True),\n",
    "    StructField(\"rank_team_1\", StringType(), True),\n",
    "    StructField(\"rank_team_2\", StringType(), True)\n",
    "])\n",
    "\n",
    "AFC_qualifying_results = spark.read.csv(\"../data/AFC/2014_World_Cup_AFC_qualifying_results.tsv\", sep=\"\\t\", \n",
    "                                        schema=schema, header=False)\\\n",
    "                              .withColumn(\"new_date\", udf_get_date_string(col(\"date\"), col(\"month\"), col(\"year\")))\\\n",
    "                              .drop(\"date\").drop(\"month\").drop(\"year\").withColumnRenamed(\"new_date\", \"date\")\n",
    "\n",
    "names_to_convert = AFC_qualifying_results.schema.names\n",
    "names_to_remove = [\"date\",  \"team_1\", \"team_2\", \"score_team_1\", \"score_team_2\", \"tournament\", \"country_played\"]\n",
    "for name in names_to_remove: names_to_convert.remove(name)\n",
    "\n",
    "\n",
    "AFC_qualifying_results = AFC_qualifying_results\\\n",
    "                         .select([udf_convert_string_to_float(col(name)).alias(name) for name in names_to_convert] + names_to_remove)\\\n",
    "                         .select(\"team_1\", \"team_2\", \"score_team_1\", \"score_team_2\")\\\n",
    "                         .withColumn(\"label\", udf_win_team_1(col(\"score_team_1\"), col(\"score_team_2\")))\\\n",
    "                         .select(\"team_1\", \"team_2\", \"label\")    "
   ]
  },
  {
   "cell_type": "code",
   "execution_count": 13,
   "metadata": {},
   "outputs": [],
   "source": [
    "data = AFC_qualifying_results.join(AFC_qualifying_start, AFC_qualifying_results.team_1 == AFC_qualifying_start.team)\\\n",
    ".withColumnRenamed(\"features\", \"features_1\").drop(\"team\")\\\n",
    ".join(AFC_qualifying_start, AFC_qualifying_results.team_2 == AFC_qualifying_start.team)\\\n",
    ".withColumnRenamed(\"features\", \"features_2\").drop(\"team\")\\\n",
    ".withColumn(\"features\", udf_diff_features(col(\"features_1\"), col(\"features_2\")))\\\n",
    ".select(\"label\", \"features\")"
   ]
  },
  {
   "cell_type": "code",
   "execution_count": 14,
   "metadata": {},
   "outputs": [
    {
     "name": "stdout",
     "output_type": "stream",
     "text": [
      "+-----+--------------------+\n",
      "|label|            features|\n",
      "+-----+--------------------+\n",
      "|  2.0|[-0.0924882665276...|\n",
      "|  2.0|[0.02913619577884...|\n",
      "|  2.0|[0.08815789222717...|\n",
      "|  0.0|[-0.0671749860048...|\n",
      "|  2.0|[-0.1738087832927...|\n",
      "+-----+--------------------+\n",
      "only showing top 5 rows\n",
      "\n"
     ]
    }
   ],
   "source": [
    "data.show(5)"
   ]
  },
  {
   "cell_type": "markdown",
   "metadata": {},
   "source": [
    "## Multi-layer Perceptron"
   ]
  },
  {
   "cell_type": "markdown",
   "metadata": {},
   "source": [
    "### Define estimator"
   ]
  },
  {
   "cell_type": "code",
   "execution_count": 20,
   "metadata": {},
   "outputs": [],
   "source": [
    "multi_layer = MultilayerPerceptronClassifier(featuresCol=\"features\", labelCol=\"label\")"
   ]
  },
  {
   "cell_type": "markdown",
   "metadata": {},
   "source": [
    "### Define evaluator"
   ]
  },
  {
   "cell_type": "code",
   "execution_count": 21,
   "metadata": {},
   "outputs": [],
   "source": [
    "evaluator = MulticlassClassificationEvaluator(predictionCol=\"prediction\", labelCol=\"label\", metricName=\"accuracy\")"
   ]
  },
  {
   "cell_type": "markdown",
   "metadata": {},
   "source": [
    "### Define grid parameter"
   ]
  },
  {
   "cell_type": "code",
   "execution_count": 26,
   "metadata": {},
   "outputs": [],
   "source": [
    "grid = ParamGridBuilder()\\\n",
    ".addGrid(multi_layer.layers, [[8, 5, 3]])\\\n",
    ".build()"
   ]
  },
  {
   "cell_type": "code",
   "execution_count": 27,
   "metadata": {},
   "outputs": [
    {
     "data": {
      "text/plain": [
       "[{Param(parent=u'MultilayerPerceptronClassifier_4d099aeb4e53af520785', name='layers', doc='Sizes of layers from input layer to output layer E.g., Array(780, 100, 10) means 780 inputs, one hidden layer with 100 neurons and output layer of 10 neurons.'): [8,\n",
       "   5,\n",
       "   3]}]"
      ]
     },
     "execution_count": 27,
     "metadata": {},
     "output_type": "execute_result"
    }
   ],
   "source": [
    "grid"
   ]
  },
  {
   "cell_type": "markdown",
   "metadata": {},
   "source": [
    "### Defined Cross Validator"
   ]
  },
  {
   "cell_type": "code",
   "execution_count": 28,
   "metadata": {},
   "outputs": [],
   "source": [
    "cv = CrossValidator(estimator=multi_layer, estimatorParamMaps=grid, evaluator=evaluator, numFolds=4)"
   ]
  },
  {
   "cell_type": "code",
   "execution_count": 29,
   "metadata": {},
   "outputs": [],
   "source": [
    "cv_model = cv.fit(data)"
   ]
  },
  {
   "cell_type": "code",
   "execution_count": 23,
   "metadata": {},
   "outputs": [],
   "source": [
    "prediction = cv_model.transform(data)"
   ]
  },
  {
   "cell_type": "code",
   "execution_count": 24,
   "metadata": {},
   "outputs": [
    {
     "name": "stdout",
     "output_type": "stream",
     "text": [
      "Accuracy on the train dataset: 0.602540834846\n"
     ]
    }
   ],
   "source": [
    "print(\"Accuracy on the train dataset: {0}\".format(evaluator.evaluate(prediction)))"
   ]
  },
  {
   "cell_type": "code",
   "execution_count": 25,
   "metadata": {},
   "outputs": [
    {
     "name": "stdout",
     "output_type": "stream",
     "text": [
      "root\n",
      " |-- label: float (nullable = true)\n",
      " |-- features: vector (nullable = true)\n",
      " |-- rawPrediction: vector (nullable = true)\n",
      " |-- probability: vector (nullable = true)\n",
      " |-- prediction: double (nullable = false)\n",
      "\n"
     ]
    }
   ],
   "source": [
    "prediction.printSchema()"
   ]
  },
  {
   "cell_type": "code",
   "execution_count": 26,
   "metadata": {},
   "outputs": [
    {
     "name": "stdout",
     "output_type": "stream",
     "text": [
      "+----------+-----+\n",
      "|prediction|count|\n",
      "+----------+-----+\n",
      "|       1.0|   12|\n",
      "|       2.0|  539|\n",
      "+----------+-----+\n",
      "\n"
     ]
    }
   ],
   "source": [
    "prediction.groupBy(\"prediction\").count().show()\n",
    "\n"
   ]
  },
  {
   "cell_type": "markdown",
   "metadata": {},
   "source": [
    "## Load model"
   ]
  },
  {
   "cell_type": "code",
   "execution_count": 27,
   "metadata": {},
   "outputs": [],
   "source": [
    "model = MultilayerPerceptronClassificationModel.load(\"../test/classification_model/multilayer_perceptron\")"
   ]
  },
  {
   "cell_type": "code",
   "execution_count": 28,
   "metadata": {},
   "outputs": [
    {
     "name": "stdout",
     "output_type": "stream",
     "text": [
      "+-----+--------------------+--------------------+--------------------+----------+\n",
      "|label|            features|       rawPrediction|         probability|prediction|\n",
      "+-----+--------------------+--------------------+--------------------+----------+\n",
      "|  2.0|[-0.0924882665276...|[-0.2515240083865...|[0.22615074316625...|       2.0|\n",
      "|  2.0|[0.02913619577884...|[0.04093503191387...|[0.17838547825541...|       2.0|\n",
      "|  2.0|[0.08815789222717...|[0.28757311407884...|[0.24803099879128...|       2.0|\n",
      "|  0.0|[-0.0671749860048...|[-0.4962876004275...|[0.08012678447024...|       2.0|\n",
      "|  2.0|[-0.1738087832927...|[-0.0050817187468...|[0.31332524043115...|       2.0|\n",
      "|  2.0|[0.07562661916017...|[0.16382241732012...|[0.20537887918069...|       2.0|\n",
      "|  2.0|[0.00278192758560...|[-0.1408865614700...|[0.13181188240285...|       2.0|\n",
      "|  2.0|[0.01073707640171...|[0.04316879032472...|[0.17837488386460...|       2.0|\n",
      "|  2.0|[0.10961537808179...|[-0.3448605051066...|[0.22586817129160...|       2.0|\n",
      "|  1.0|[-0.0875580012798...|[0.34029151695991...|[0.27721197985341...|       2.0|\n",
      "|  0.0|[-0.1534257680177...|[-0.3827009918144...|[0.09577831062462...|       2.0|\n",
      "|  2.0|[0.05416913330554...|[-0.1535386594552...|[0.12626959553235...|       2.0|\n",
      "|  2.0|[0.02118104696273...|[-0.1277852512813...|[0.13415575501474...|       2.0|\n",
      "|  0.0|[0.00795514881610...|[-0.3580935867873...|[0.27926276903151...|       1.0|\n",
      "|  2.0|[-0.0214574858546...|[0.09144338237048...|[0.19449512492982...|       2.0|\n",
      "|  0.0|[0.03398875892162...|[-0.7793196765062...|[0.17654885422935...|       2.0|\n",
      "|  1.0|[0.08625078201293...|[0.05642166335995...|[0.17976940803187...|       2.0|\n",
      "|  2.0|[0.01839911937713...|[-0.2546810607094...|[0.18056579255253...|       2.0|\n",
      "|  2.0|[-0.0203830152750...|[-1.7528925797541...|[0.03900095799122...|       2.0|\n",
      "|  2.0|[0.06064300239086...|[0.42879928650337...|[0.30927482320272...|       2.0|\n",
      "+-----+--------------------+--------------------+--------------------+----------+\n",
      "only showing top 20 rows\n",
      "\n"
     ]
    }
   ],
   "source": [
    "model.transform(data).show()"
   ]
  },
  {
   "cell_type": "code",
   "execution_count": null,
   "metadata": {},
   "outputs": [],
   "source": []
  }
 ],
 "metadata": {
  "kernelspec": {
   "display_name": "Python 2",
   "language": "python",
   "name": "python2"
  },
  "language_info": {
   "codemirror_mode": {
    "name": "ipython",
    "version": 2
   },
   "file_extension": ".py",
   "mimetype": "text/x-python",
   "name": "python",
   "nbconvert_exporter": "python",
   "pygments_lexer": "ipython2",
   "version": "2.7.14"
  }
 },
 "nbformat": 4,
 "nbformat_minor": 1
}
