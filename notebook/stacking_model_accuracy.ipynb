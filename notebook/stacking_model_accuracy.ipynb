{
 "cells": [
  {
   "cell_type": "code",
   "execution_count": null,
   "metadata": {},
   "outputs": [],
   "source": [
    "import numpy as np\n",
    "from pyspark.sql.types import StructType, StructField, StringType, FloatType, DoubleType\n",
    "from pyspark.sql.functions import col, max"
   ]
  },
  {
   "cell_type": "code",
   "execution_count": 32,
   "metadata": {},
   "outputs": [],
   "source": [
    "n_classifiers = range(2, 10)\n",
    "model_classifi"
   ]
  },
  {
   "cell_type": "code",
   "execution_count": 33,
   "metadata": {},
   "outputs": [],
   "source": [
    "schema = StructType([\n",
    "    StructField(\"classifiers\", StringType(), True),\n",
    "    StructField(\"accuracy\", DoubleType(), True)])"
   ]
  },
  {
   "cell_type": "code",
   "execution_count": 34,
   "metadata": {},
   "outputs": [
    {
     "name": "stdout",
     "output_type": "stream",
     "text": [
      "number classifier: 2, max accuracy = 0.637548262548\n",
      "number classifier: 3, max accuracy = 0.644787644788\n",
      "number classifier: 4, max accuracy = 0.655888030888\n",
      "number classifier: 5, max accuracy = 0.660714285714\n",
      "number classifier: 6, max accuracy = 0.666988416988\n",
      "number classifier: 7, max accuracy = 0.670366795367\n",
      "number classifier: 8, max accuracy = 0.67277992278\n",
      "number classifier: 9, max accuracy = 0.649613899614\n"
     ]
    }
   ],
   "source": [
    "dic_accuracy = {}\n",
    "list_accuracy = []\n",
    "for n in n_classifiers:\n",
    "    dic_accuracy[n] = (spark\n",
    "        .read\n",
    "        .csv(\"../test/accuracy/2014_{0}_stacking_accuracy.csv\".format(n), sep=\";\", schema=schema, header=False))\n",
    "    max_accuracy = dic_accuracy[n].agg(max(col(\"accuracy\")).alias(\"max\")).rdd.map(lambda x: x[\"max\"]).collect()[0]\n",
    "    print(\"number classifier: {0}, max accuracy = {1}\".format(n, max_accuracy))\n",
    "    list_accuracy.append((n, max_accuracy))"
   ]
  },
  {
   "cell_type": "code",
   "execution_count": 40,
   "metadata": {},
   "outputs": [
    {
     "name": "stdout",
     "output_type": "stream",
     "text": [
      "8: 0.67277992278\n"
     ]
    }
   ],
   "source": [
    "max_classifier = float(np.max(map(lambda x: x[1], list_accuracy)))\n",
    "n_classifier = filter(lambda x: x[1] == max_classifier, list_accuracy)[0][0]\n",
    "print(\"{0}: {1}\".format(n_classifier, max_classifier))"
   ]
  },
  {
   "cell_type": "code",
   "execution_count": 46,
   "metadata": {},
   "outputs": [
    {
     "data": {
      "text/plain": [
       "u\"(('classification', 'logistic_regression'), ('classification', 'random_forest'), ('classification', 'multilayer_perceptron'), ('classification', 'one_vs_rest'), ('regression', 'linear_regression'), ('regression', 'decision_tree'), ('regression', 'random_forest'), ('regression', 'gbt_regressor'))\""
      ]
     },
     "execution_count": 46,
     "metadata": {},
     "output_type": "execute_result"
    }
   ],
   "source": [
    "classifiers = (dic_accuracy[n_classifier]\n",
    "               .filter(col(\"accuracy\") == max_classifier)\n",
    "               .rdd\n",
    "               .map(lambda x: x[\"classifiers\"]).collect()[0])\n",
    "\n",
    "\n",
    "classifiers"
   ]
  },
  {
   "cell_type": "code",
   "execution_count": null,
   "metadata": {},
   "outputs": [],
   "source": []
  }
 ],
 "metadata": {
  "kernelspec": {
   "display_name": "Python 2",
   "language": "python",
   "name": "python2"
  },
  "language_info": {
   "codemirror_mode": {
    "name": "ipython",
    "version": 2
   },
   "file_extension": ".py",
   "mimetype": "text/x-python",
   "name": "python",
   "nbconvert_exporter": "python",
   "pygments_lexer": "ipython2",
   "version": "2.7.14"
  }
 },
 "nbformat": 4,
 "nbformat_minor": 2
}
