{
 "cells": [
  {
   "cell_type": "markdown",
   "metadata": {},
   "source": [
    "## Import libraries"
   ]
  },
  {
   "cell_type": "code",
   "execution_count": 12,
   "metadata": {},
   "outputs": [],
   "source": [
    "# pyspark libraries\n",
    "from pyspark.sql.types import StructType, StructField, StringType, IntegerType, BooleanType, FloatType, ArrayType\n",
    "from pyspark.sql.functions import col, udf, when\n",
    "from pyspark.ml.linalg import Vectors, VectorUDT\n",
    "from pyspark.ml.regression import LinearRegression\n",
    "from pyspark.ml.evaluation import RegressionEvaluator\n",
    "from pyspark.ml.tuning import CrossValidator\n",
    "from pyspark.ml.tuning import TrainValidationSplit\n",
    "from pyspark.ml.tuning import ParamGridBuilder\n",
    "\n",
    "# python libraries\n",
    "import numpy as np"
   ]
  },
  {
   "cell_type": "markdown",
   "metadata": {},
   "source": [
    "## User Defined Functions"
   ]
  },
  {
   "cell_type": "code",
   "execution_count": 13,
   "metadata": {},
   "outputs": [],
   "source": [
    "def convert_string_to_float(x):\n",
    "    x_replace_minus = x.replace(u'\\u2212', '-')\n",
    "    if x_replace_minus == '-':\n",
    "        return np.nan\n",
    "    else:\n",
    "        return float(x_replace_minus)\n",
    "\n",
    "udf_convert_string_to_float = udf(lambda x: convert_string_to_float(x), FloatType())"
   ]
  },
  {
   "cell_type": "code",
   "execution_count": 14,
   "metadata": {},
   "outputs": [],
   "source": [
    "udf_get_percentage_game = udf(lambda x, y: x / y, FloatType())"
   ]
  },
  {
   "cell_type": "code",
   "execution_count": 15,
   "metadata": {},
   "outputs": [],
   "source": [
    "udf_create_features = udf(lambda s,t,u,v,w,x,y,z: Vectors.dense([s,t,u,v,w,x,y,z]), VectorUDT())"
   ]
  },
  {
   "cell_type": "code",
   "execution_count": 16,
   "metadata": {},
   "outputs": [],
   "source": [
    "def get_date_string(date, month, year):\n",
    "    return year + \"/\" + month + \"/\" + date\n",
    "\n",
    "udf_get_date_string = udf(lambda date, month, year: get_date_string(date, month, year), StringType())"
   ]
  },
  {
   "cell_type": "code",
   "execution_count": 27,
   "metadata": {},
   "outputs": [],
   "source": [
    "def diff_goals_team1_team2(goals_team_1, goals_team_2):\n",
    "    return float(goals_team_1 - goals_team_2)\n",
    "    \n",
    "udf_diff_goals = udf(lambda team_1, team_2: diff_goals_team1_team2(team_1, team_2), FloatType())"
   ]
  },
  {
   "cell_type": "code",
   "execution_count": 18,
   "metadata": {},
   "outputs": [],
   "source": [
    "udf_diff_features = udf(lambda features_1, features_2: features_1 - features_2, VectorUDT())"
   ]
  },
  {
   "cell_type": "code",
   "execution_count": 19,
   "metadata": {},
   "outputs": [],
   "source": [
    "schema = StructType([\n",
    "    StructField(\"rankGroup_local\", StringType(), True),\n",
    "    StructField(\"rankGroup_global\", StringType(), True),\n",
    "    StructField(\"teamGroup_team\", StringType(), True),\n",
    "    StructField(\"ratingGroup_rating\", StringType(), True),\n",
    "    StructField(\"highestGroup_rank_max\", StringType(), True),\n",
    "    StructField(\"highestGroup_rating_max\", StringType(), True),\n",
    "    StructField(\"averageGroup_rank_avg\", StringType(), True),\n",
    "    StructField(\"averageGroup_rating_avg\", StringType(), True),\n",
    "    StructField(\"lowestGroup_rank_min\", StringType(), True),\n",
    "    StructField(\"lowestGroup_rating_min\", StringType(), True),\n",
    "    StructField(\"change3mGroup_rank_three_month_change\", StringType(), True),\n",
    "    StructField(\"change3mGroup_rating_three_month_change\", StringType(), True),\n",
    "    StructField(\"change6mGroup_rank_six_month_change\", StringType(), True),\n",
    "    StructField(\"change6mGroup_rating_six_month_change\", StringType(), True),\n",
    "    StructField(\"change1yGroup_rank_one_year_change\", StringType(), True),\n",
    "    StructField(\"change1yGroup_rating_one_year_change\", StringType(), True),\n",
    "    StructField(\"change2yGroup_rank_two_year_change\", StringType(), True),\n",
    "    StructField(\"change2yGroup_rating_two_year_change\", StringType(), True),\n",
    "    StructField(\"change5yGroup_rank_five_year_change\", StringType(), True),\n",
    "    StructField(\"change5yGroup_rating_five_year_change\", StringType(), True),\n",
    "    StructField(\"change10yGroup_rank_ten_year_change\", StringType(), True),\n",
    "    StructField(\"change10yGroup_rating_ten_year_change\", StringType(), True),\n",
    "    StructField(\"matchesGroup_total\", StringType(), True),\n",
    "    StructField(\"matchesGroup_home\", StringType(), True),\n",
    "    StructField(\"matchesGroup_away\", StringType(), True),\n",
    "    StructField(\"matchesGroup_neutral\", StringType(), True),\n",
    "    StructField(\"matchesGroup_wins\", StringType(), True),\n",
    "    StructField(\"matchesGroup_losses\", StringType(), True),\n",
    "    StructField(\"matchesGroup_draws\", StringType(), True),\n",
    "    StructField(\"goalsGroup_for\", StringType(), True),\n",
    "    StructField(\"goalsGroup_against\", StringType(), True)\n",
    "])\n",
    "\n",
    "names_to_convert = schema.names\n",
    "names_to_convert.remove(\"teamGroup_team\")\n",
    "\n",
    "\n",
    "AFC_qualifying_start = spark.read.csv(\"../data/AFC/2014_World_Cup_AFC_qualifying_start.tsv\", sep=\"\\t\", \n",
    "                                      schema=schema, header=False)\\\n",
    "                                 .select([udf_convert_string_to_float(col(name)).alias(name) for name in names_to_convert] + [\"teamGroup_team\"])"
   ]
  },
  {
   "cell_type": "code",
   "execution_count": 20,
   "metadata": {},
   "outputs": [
    {
     "name": "stdout",
     "output_type": "stream",
     "text": [
      "+----+------------+------------+---------------+------------+--------------+-------------+-----------+---------------+\n",
      "|team|matches_home|matches_away|matches_neutral|matches_wins|matches_losses|matches_draws|matches_for|matches_against|\n",
      "+----+------------+------------+---------------+------------+--------------+-------------+-----------+---------------+\n",
      "|  JP|  0.37785017|    0.252443|     0.36970684|  0.45114008|    0.32899022|    0.2198697|  1.6905538|       1.223127|\n",
      "|  KR|  0.31050768|  0.23966943|      0.4498229|   0.5478158|    0.20070839|    0.2514758|   1.853601|      0.9020071|\n",
      "|  AU|   0.4437086|   0.3620309|      0.1942605|   0.5121413|    0.27593818|   0.21192053|   2.039735|      1.1037527|\n",
      "|  IR|        0.34|       0.278|          0.382|       0.546|         0.218|        0.236|       1.87|          0.826|\n",
      "|  CN|  0.33032492|  0.33754513|     0.33212996|  0.51805055|    0.27436823|   0.20758122|  1.9801444|      1.0361011|\n",
      "+----+------------+------------+---------------+------------+--------------+-------------+-----------+---------------+\n",
      "only showing top 5 rows\n",
      "\n"
     ]
    }
   ],
   "source": [
    "AFC_qualifying_start = AFC_qualifying_start\\\n",
    ".withColumn(\"matches_home\",    udf_get_percentage_game(col(\"matchesGroup_home\"), col(\"matchesGroup_total\")))\\\n",
    ".withColumn(\"matches_away\",    udf_get_percentage_game(col(\"matchesGroup_away\"), col(\"matchesGroup_total\")))\\\n",
    ".withColumn(\"matches_neutral\", udf_get_percentage_game(col(\"matchesGroup_neutral\"), col(\"matchesGroup_total\")))\\\n",
    ".withColumn(\"matches_wins\",    udf_get_percentage_game(col(\"matchesGroup_wins\"), col(\"matchesGroup_total\")))\\\n",
    ".withColumn(\"matches_losses\",  udf_get_percentage_game(col(\"matchesGroup_losses\"), col(\"matchesGroup_total\")))\\\n",
    ".withColumn(\"matches_draws\",  udf_get_percentage_game(col(\"matchesGroup_draws\"), col(\"matchesGroup_total\")))\\\n",
    ".withColumn(\"matches_for\",    udf_get_percentage_game(col(\"goalsGroup_for\"), col(\"matchesGroup_total\")))\\\n",
    ".withColumn(\"matches_against\",  udf_get_percentage_game(col(\"goalsGroup_against\"), col(\"matchesGroup_total\")))\\\n",
    ".select(col(\"teamGroup_team\").alias(\"team\"), col(\"matches_home\"), col(\"matches_away\"), col(\"matches_neutral\"), \n",
    "        col(\"matches_wins\"), col(\"matches_losses\"), col(\"matches_draws\"),\n",
    "        col(\"matches_for\"), col(\"matches_against\"))\n",
    "\n",
    "AFC_qualifying_start.show(5)\n"
   ]
  },
  {
   "cell_type": "code",
   "execution_count": 21,
   "metadata": {},
   "outputs": [
    {
     "name": "stdout",
     "output_type": "stream",
     "text": [
      "+----+--------------------+\n",
      "|team|            features|\n",
      "+----+--------------------+\n",
      "|  JP|[0.37785017490386...|\n",
      "|  KR|[0.31050768494606...|\n",
      "|  AU|[0.44370859861373...|\n",
      "|  IR|[0.34000000357627...|\n",
      "|  CN|[0.33032491803169...|\n",
      "+----+--------------------+\n",
      "only showing top 5 rows\n",
      "\n"
     ]
    }
   ],
   "source": [
    "AFC_qualifying_start = AFC_qualifying_start\\\n",
    ".withColumn(\"features\", udf_create_features(col(\"matches_home\"), col(\"matches_away\"), col(\"matches_neutral\"),\n",
    "                                            col(\"matches_wins\"), col(\"matches_losses\"), col(\"matches_draws\"),\n",
    "                                            col(\"matches_for\"),  col(\"matches_against\")))\\\n",
    ".select(\"team\", \"features\")\n",
    "\n",
    "AFC_qualifying_start.show(5)"
   ]
  },
  {
   "cell_type": "code",
   "execution_count": 29,
   "metadata": {},
   "outputs": [],
   "source": [
    "schema = StructType([\n",
    "    StructField(\"year\", StringType(), True),\n",
    "    StructField(\"month\", StringType(), True),\n",
    "    StructField(\"date\", StringType(), True),\n",
    "    StructField(\"team_1\", StringType(), True),\n",
    "    StructField(\"team_2\", StringType(), True),\n",
    "    StructField(\"score_team_1\", IntegerType(), True),\n",
    "    StructField(\"score_team_2\", IntegerType(), True),\n",
    "    StructField(\"tournament\", StringType(), True),\n",
    "    StructField(\"country_played\", StringType(), True),\n",
    "    StructField(\"rating_moved\", StringType(), True),\n",
    "    StructField(\"rating_team_1\", StringType(), True),\n",
    "    StructField(\"rating_team_2\", StringType(), True),\n",
    "    StructField(\"rank_moved_team_1\", StringType(), True),\n",
    "    StructField(\"rank_moved_team_2\", StringType(), True),\n",
    "    StructField(\"rank_team_1\", StringType(), True),\n",
    "    StructField(\"rank_team_2\", StringType(), True)\n",
    "])\n",
    "\n",
    "AFC_qualifying_results = spark.read.csv(\"../data/AFC/2014_World_Cup_AFC_qualifying_results.tsv\", sep=\"\\t\", \n",
    "                                        schema=schema, header=False)\\\n",
    "                              .withColumn(\"new_date\", udf_get_date_string(col(\"date\"), col(\"month\"), col(\"year\")))\\\n",
    "                              .drop(\"date\").drop(\"month\").drop(\"year\").withColumnRenamed(\"new_date\", \"date\")\n",
    "\n",
    "names_to_convert = AFC_qualifying_results.schema.names\n",
    "names_to_remove = [\"date\",  \"team_1\", \"team_2\", \"score_team_1\", \"score_team_2\", \"tournament\", \"country_played\"]\n",
    "for name in names_to_remove: names_to_convert.remove(name)\n",
    "\n",
    "\n",
    "AFC_qualifying_results = AFC_qualifying_results\\\n",
    "                         .select([udf_convert_string_to_float(col(name)).alias(name) for name in names_to_convert] + names_to_remove)\\\n",
    "                         .select(\"team_1\", \"team_2\", \"score_team_1\", \"score_team_2\")\\\n",
    "                         .withColumn(\"label\", udf_diff_goals(col(\"score_team_1\"), col(\"score_team_2\")))\\\n",
    "                         .select(\"team_1\", \"team_2\", \"label\")    "
   ]
  },
  {
   "cell_type": "code",
   "execution_count": 32,
   "metadata": {},
   "outputs": [
    {
     "name": "stdout",
     "output_type": "stream",
     "text": [
      "+------+------+-----+\n",
      "|team_1|team_2|label|\n",
      "+------+------+-----+\n",
      "|    MN|    PH|  1.0|\n",
      "|    NP|    BT|  1.0|\n",
      "|    NP|    BT|  1.0|\n",
      "|    IN|    TW|  3.0|\n",
      "|    MV|    KH|  4.0|\n",
      "+------+------+-----+\n",
      "only showing top 5 rows\n",
      "\n"
     ]
    }
   ],
   "source": [
    "AFC_qualifying_results.show(5)"
   ]
  },
  {
   "cell_type": "code",
   "execution_count": 33,
   "metadata": {},
   "outputs": [],
   "source": [
    "data = AFC_qualifying_results.join(AFC_qualifying_start, AFC_qualifying_results.team_1 == AFC_qualifying_start.team)\\\n",
    ".withColumnRenamed(\"features\", \"features_1\").drop(\"team\")\\\n",
    ".join(AFC_qualifying_start, AFC_qualifying_results.team_2 == AFC_qualifying_start.team)\\\n",
    ".withColumnRenamed(\"features\", \"features_2\").drop(\"team\")\\\n",
    ".withColumn(\"features\", udf_diff_features(col(\"features_1\"), col(\"features_2\")))\\\n",
    ".select(\"label\", \"features\")"
   ]
  },
  {
   "cell_type": "code",
   "execution_count": 34,
   "metadata": {},
   "outputs": [
    {
     "name": "stdout",
     "output_type": "stream",
     "text": [
      "+-----+--------------------+\n",
      "|label|            features|\n",
      "+-----+--------------------+\n",
      "|  1.0|[-0.0924882665276...|\n",
      "|  3.0|[0.02913619577884...|\n",
      "|  4.0|[0.08815789222717...|\n",
      "|  0.0|[-0.0671749860048...|\n",
      "|  2.0|[-0.1738087832927...|\n",
      "+-----+--------------------+\n",
      "only showing top 5 rows\n",
      "\n"
     ]
    }
   ],
   "source": [
    "data.show(5)"
   ]
  },
  {
   "cell_type": "markdown",
   "metadata": {},
   "source": [
    "## LinearRegression\n",
    "\n",
    "LinearRegression(featuresCol='features', labelCol='label', predictionCol='prediction', maxIter=100, regParam=0.0, elasticNetParam=0.0, tol=1e-06, fitIntercept=True, standardization=True, solver='auto', weightCol=None, aggregationDepth=2, loss='squaredError', epsilon=1.35)"
   ]
  },
  {
   "cell_type": "markdown",
   "metadata": {},
   "source": [
    "### Define estimator"
   ]
  },
  {
   "cell_type": "code",
   "execution_count": 35,
   "metadata": {},
   "outputs": [],
   "source": [
    "linear_regression = LinearRegression(featuresCol=\"features\", labelCol=\"label\", predictionCol=\"prediction\")"
   ]
  },
  {
   "cell_type": "markdown",
   "metadata": {},
   "source": [
    "### Define evaluator"
   ]
  },
  {
   "cell_type": "code",
   "execution_count": 36,
   "metadata": {},
   "outputs": [],
   "source": [
    "evaluator = RegressionEvaluator(predictionCol=\"prediction\", labelCol=\"label\", metricName=\"rmse\")"
   ]
  },
  {
   "cell_type": "markdown",
   "metadata": {},
   "source": [
    "### Define grid parameter"
   ]
  },
  {
   "cell_type": "code",
   "execution_count": 37,
   "metadata": {},
   "outputs": [],
   "source": [
    "grid = ParamGridBuilder()\\\n",
    ".addGrid(linear_regression.regParam, [0.0, 0.1])\\\n",
    ".build()"
   ]
  },
  {
   "cell_type": "markdown",
   "metadata": {},
   "source": [
    "### Random dataset split"
   ]
  },
  {
   "cell_type": "code",
   "execution_count": 38,
   "metadata": {},
   "outputs": [],
   "source": [
    "train,test = data.randomSplit([0.8, 0.2])"
   ]
  },
  {
   "cell_type": "markdown",
   "metadata": {},
   "source": [
    "### Simple linear regression application"
   ]
  },
  {
   "cell_type": "code",
   "execution_count": 40,
   "metadata": {},
   "outputs": [
    {
     "name": "stdout",
     "output_type": "stream",
     "text": [
      "Train count: 445\n",
      "Test count: 106\n",
      "Accuracy on the train dataset: 1.87061194136\n",
      "Accuracy on the test dataset: 1.88750232947\n"
     ]
    }
   ],
   "source": [
    "print(\"Train count: {0}\".format(train.count()))\n",
    "print(\"Test count: {0}\".format(test.count()))\n",
    "\n",
    "model = linear_regression.fit(train)\n",
    "train_prediction = model.transform(train)\n",
    "test_prediction = model.transform(test)\n",
    "\n",
    "print(\"Accuracy on the train dataset: {0}\".format(evaluator.evaluate(train_prediction)))\n",
    "print(\"Accuracy on the test dataset: {0}\".format(evaluator.evaluate(test_prediction)))"
   ]
  },
  {
   "cell_type": "markdown",
   "metadata": {},
   "source": [
    "### Defined Cross Validator"
   ]
  },
  {
   "cell_type": "code",
   "execution_count": 41,
   "metadata": {},
   "outputs": [],
   "source": [
    "cv = CrossValidator(estimator=linear_regression, estimatorParamMaps=grid, evaluator=evaluator, numFolds=4)"
   ]
  },
  {
   "cell_type": "code",
   "execution_count": 42,
   "metadata": {},
   "outputs": [],
   "source": [
    "cv_model = cv.fit(train)"
   ]
  },
  {
   "cell_type": "code",
   "execution_count": 43,
   "metadata": {},
   "outputs": [],
   "source": [
    "train_prediction = cv_model.transform(train)\n",
    "test_prediction = cv_model.transform(test)"
   ]
  },
  {
   "cell_type": "code",
   "execution_count": 44,
   "metadata": {},
   "outputs": [
    {
     "name": "stdout",
     "output_type": "stream",
     "text": [
      "Accuracy on the train dataset: 1.89167914464\n",
      "Accuracy on the test dataset: 1.89276859107\n"
     ]
    }
   ],
   "source": [
    "print(\"Accuracy on the train dataset: {0}\".format(evaluator.evaluate(train_prediction)))\n",
    "print(\"Accuracy on the test dataset: {0}\".format(evaluator.evaluate(test_prediction)))"
   ]
  },
  {
   "cell_type": "markdown",
   "metadata": {},
   "source": [
    "### Defined Train Validation"
   ]
  },
  {
   "cell_type": "code",
   "execution_count": 47,
   "metadata": {},
   "outputs": [],
   "source": [
    "tv = TrainValidationSplit(estimator=linear_regression, estimatorParamMaps=grid, evaluator=evaluator, trainRatio=0.75)\n",
    "tv_model = tv.fit(train)"
   ]
  },
  {
   "cell_type": "code",
   "execution_count": 48,
   "metadata": {},
   "outputs": [],
   "source": [
    "train_prediction = tv_model.transform(train)\n",
    "test_prediction = tv_model.transform(test)"
   ]
  },
  {
   "cell_type": "code",
   "execution_count": 49,
   "metadata": {},
   "outputs": [
    {
     "name": "stdout",
     "output_type": "stream",
     "text": [
      "Accuracy on the train dataset: 1.89167914464\n",
      "Accuracy on the test dataset: 1.89276859107\n"
     ]
    }
   ],
   "source": [
    "print(\"Accuracy on the train dataset: {0}\".format(evaluator.evaluate(train_prediction)))\n",
    "print(\"Accuracy on the test dataset: {0}\".format(evaluator.evaluate(test_prediction)))"
   ]
  },
  {
   "cell_type": "code",
   "execution_count": 52,
   "metadata": {},
   "outputs": [
    {
     "name": "stdout",
     "output_type": "stream",
     "text": [
      "+-----+--------------------+--------------------+\n",
      "|label|            features|          prediction|\n",
      "+-----+--------------------+--------------------+\n",
      "| -6.0|[0.04727581143379...|  0.5368039843037711|\n",
      "| -6.0|[0.08944281935691...|-0.09072270216345235|\n",
      "| -5.0|[-0.0812472701072...| 0.11126846305321125|\n",
      "| -5.0|[-0.0442683398723...|  0.4995793014030628|\n",
      "| -4.0|[-0.1868389397859...|  0.8319997961449845|\n",
      "| -4.0|[-0.1098397970199...| 0.25803673253780757|\n",
      "| -4.0|[-0.0810651332139...|  0.8313591035978122|\n",
      "| -4.0|[0.06024748086929...| -0.4802269777245184|\n",
      "| -4.0|[0.19500334560871...| 0.03928998555939578|\n",
      "| -3.0|[-0.3179917559027...|-0.06945237068761745|\n",
      "| -3.0|[-0.1947758123278...| -0.8728848829347086|\n",
      "| -3.0|[-0.0791366100311...|  0.5236472245367694|\n",
      "| -3.0|[-0.0756266191601...| -0.5543242866977843|\n",
      "| -3.0|[-0.0659615397453...|   -0.57566355320942|\n",
      "| -3.0|[-0.0524042546749...|-0.18805824615021816|\n",
      "| -3.0|[-0.0021106600761...|  0.4484316008730973|\n",
      "| -3.0|[0.00698527693748...|  1.4364098509588445|\n",
      "| -3.0|[0.01413255929946...|  -0.450641493588556|\n",
      "| -3.0|[0.12192475795745...|  0.4870601239780776|\n",
      "| -2.0|[-0.2800921201705...| 0.19715402970535212|\n",
      "| -2.0|[-0.0875580012798...|  0.9793272723097147|\n",
      "| -2.0|[-0.0613768696784...|  1.1806740464761691|\n",
      "| -2.0|[-0.0440402626991...| 0.20586778144980367|\n",
      "| -2.0|[-0.0257217288017...| 0.35993196326173693|\n",
      "| -2.0|[-0.0148330032825...| 0.26261544593755937|\n",
      "| -2.0|[0.03274275362491...|  0.5080991136043141|\n",
      "| -2.0|[0.04636250436306...|-0.49597092327034054|\n",
      "| -2.0|[0.08625078201293...|   1.225721991285795|\n",
      "| -2.0|[0.11775317788124...|  0.2811015952708812|\n",
      "| -2.0|[0.15062074363231...|-0.14319722473280871|\n",
      "| -2.0|[0.20037412643432...|  1.4959652688540173|\n",
      "| -2.0|[0.20651167631149...| -0.5049159764539856|\n",
      "| -2.0|[0.20655153691768...|  0.7544938325803947|\n",
      "| -1.0|[-0.1867427080869...|  0.7127665241692828|\n",
      "| -1.0|[-0.1540673077106...| 0.04554894368127893|\n",
      "| -1.0|[-0.1515402644872...|  -1.092321328232046|\n",
      "| -1.0|[-0.1332009136676...|  0.6388082790509815|\n",
      "| -1.0|[-0.1285006701946...|  0.5764279213405216|\n",
      "| -1.0|[-0.1191491931676...|   0.542249766119731|\n",
      "| -1.0|[-0.1150000095367...|-0.38602803040595013|\n",
      "| -1.0|[-0.0880156457424...|  1.3076454728784423|\n",
      "| -1.0|[-0.0507072508335...|-0.39538333182835295|\n",
      "| -1.0|[-0.0411280989646...|  0.4076940755340335|\n",
      "| -1.0|[-0.0298395752906...|  0.5763878720674167|\n",
      "| -1.0|[-0.0294923186302...|  0.7893060539874065|\n",
      "| -1.0|[-0.0178121626377...| 0.04829212575615771|\n",
      "| -1.0|[-0.0141010582447...|  0.8566676684232846|\n",
      "| -1.0|[0.01691448688507...|  0.5171893181723762|\n",
      "| -1.0|[0.01691448688507...|  0.5171893181723762|\n",
      "| -1.0|[0.02061404287815...| 0.07853612412547928|\n",
      "| -1.0|[0.02755522727966...|    0.54075474303407|\n",
      "| -1.0|[0.02983957529067...|  1.1452328526458944|\n",
      "| -1.0|[0.04029273986816...|   0.673578345003349|\n",
      "| -1.0|[0.04085117578506...|  0.4340940364287521|\n",
      "| -1.0|[0.04426833987236...|  1.2220414233102483|\n",
      "| -1.0|[0.06768974661827...|  0.5710603323314021|\n",
      "| -1.0|[0.08423233032226...|  0.7839617424191966|\n",
      "| -1.0|[0.09243243932723...| 0.41555581560882865|\n",
      "| -1.0|[0.12219631671905...| -0.7358359401605147|\n",
      "| -1.0|[0.12227201461791...|  0.6999783058980676|\n",
      "| -1.0|[0.12593279778957...|    2.13431980318905|\n",
      "| -1.0|[0.14561403542757...|  1.0447316327402876|\n",
      "| -1.0|[0.14626419544219...|  0.8361213636271888|\n",
      "| -1.0|[0.15823888778686...|  1.8820303097392288|\n",
      "| -1.0|[0.19299581646919...|  1.7031970103289877|\n",
      "| -1.0|[0.21560761332511...|  0.4830622736317616|\n",
      "| -1.0|[0.24837172031402...|  0.5422525328543617|\n",
      "|  0.0|[-0.3539388477802...|0.043710180387718345|\n",
      "|  0.0|[-0.2652591168880...|  0.7953489461244483|\n",
      "|  0.0|[-0.2213446795940...|     1.6283417847482|\n",
      "|  0.0|[-0.1980841308832...|-0.17426272769343598|\n",
      "|  0.0|[-0.1931077837944...|  0.5569125953421454|\n",
      "|  0.0|[-0.1924189776182...| -0.3443249638122948|\n",
      "|  0.0|[-0.1888242363929...| 0.22438224309151944|\n",
      "|  0.0|[-0.1581210494041...| 0.48999273509048147|\n",
      "|  0.0|[-0.1534257680177...|  1.4655104072454002|\n",
      "|  0.0|[-0.1488802731037...|  0.7694003841986741|\n",
      "|  0.0|[-0.1332009136676...|  0.6388082790509815|\n",
      "|  0.0|[-0.1326722502708...| 0.37046939263332523|\n",
      "|  0.0|[-0.1256298720836...|-0.07121874723899346|\n",
      "|  0.0|[-0.1249999925494...|-0.10538514625815265|\n",
      "|  0.0|[-0.1056452095508...|  0.8194429855225763|\n",
      "|  0.0|[-0.1048391312360...| -0.6966477609945813|\n",
      "|  0.0|[-0.1032320857048...|  2.4649660020313306|\n",
      "|  0.0|[-0.0924324393272...|  1.3060649091044825|\n",
      "|  0.0|[-0.0915441513061...|  0.8235856794559472|\n",
      "|  0.0|[-0.0849871486425...|  1.0179037995740419|\n",
      "|  0.0|[-0.0815501958131...|-0.23021186818353423|\n",
      "|  0.0|[-0.0791366100311...|  0.5236472245367694|\n",
      "|  0.0|[-0.0671749860048...|  1.8304220361745398|\n",
      "|  0.0|[-0.0658584237098...| 0.13614006710573812|\n",
      "|  0.0|[-0.0613768696784...|  1.1806740464761691|\n",
      "|  0.0|[-0.0609375014901...|  1.1510481625165485|\n",
      "|  0.0|[-0.0596683323383...|  1.3652551683270826|\n",
      "|  0.0|[-0.0556461662054...|   1.025273456676064|\n",
      "|  0.0|[-0.0549522340297...|   1.283383994351188|\n",
      "|  0.0|[-0.0492151677608...|   0.893600660684537|\n",
      "|  0.0|[-0.0475252568721...|  1.2835971666961479|\n",
      "|  0.0|[-0.0442683398723...|  0.4995793014030628|\n",
      "|  0.0|[-0.0425569862127...|  1.5796235028741608|\n",
      "|  0.0|[-0.0402927398681...|   1.048042379709962|\n",
      "|  0.0|[-0.0402398109436...| -0.0747851541145016|\n",
      "|  0.0|[-0.0383031964302...|-0.18391555221684752|\n",
      "|  0.0|[-0.0274193584918...|  0.4281322001534376|\n",
      "|  0.0|[-0.0274193584918...|  0.6511584746336223|\n",
      "|  0.0|[-0.0265653431415...|  0.4720501748353742|\n",
      "|  0.0|[-0.0206140428781...|   1.643084600587832|\n",
      "|  0.0|[-0.0198172330856...|  0.9406917699624064|\n",
      "|  0.0|[-0.0158282667398...|  0.8699005669247175|\n",
      "|  0.0|[-0.0144366323947...|  0.9016131643142092|\n",
      "|  0.0|[-0.0141010582447...|  0.8566676684232846|\n",
      "|  0.0|[-0.0104531645774...|   1.332464869999201|\n",
      "|  0.0|[-0.0082606375217...|  1.8303745773412876|\n",
      "|  0.0|[-0.0069852769374...| 0.28521087375446663|\n",
      "|  0.0|[-0.0066669881343...|  0.2595592490784989|\n",
      "|  0.0|[-0.0061774104833...|   1.602281798630278|\n",
      "|  0.0|[-0.0036995559930...|  1.2994635564035524|\n",
      "|  0.0|[-3.4725666046142...|  0.6478921804366656|\n",
      "|  0.0|[1.55091285705566...|  0.8308097837923314|\n",
      "|  0.0|[0.00242894887924...|  1.2475374991642458|\n",
      "|  0.0|[0.00402852892875...|  0.2864459068390913|\n",
      "|  0.0|[0.00455632805824...|   1.049682714151254|\n",
      "|  0.0|[0.00642463564872...|  0.9635203102316745|\n",
      "|  0.0|[0.00642463564872...|  0.9635203102316745|\n",
      "|  0.0|[0.00698527693748...|  1.4364098509588445|\n",
      "|  0.0|[0.00795514881610...|  0.2908299426850667|\n",
      "|  0.0|[0.01045316457748...|    0.38915585471411|\n",
      "|  0.0|[0.01410105824470...|  0.8649530562900265|\n",
      "|  0.0|[0.01582826673984...|  0.8517201577885936|\n",
      "|  0.0|[0.01781216263771...|  1.6733285989571534|\n",
      "|  0.0|[0.02702704071998...|  1.3097839552459065|\n",
      "|  0.0|[0.02702704071998...|  1.3097839552459065|\n",
      "|  0.0|[0.03274275362491...|  0.5080991136043141|\n",
      "|  0.0|[0.03398875892162...| 0.21695505612021326|\n",
      "|  0.0|[0.03830319643020...|  1.9055362769301585|\n",
      "|  0.0|[0.04029273986816...|   0.673578345003349|\n",
      "|  0.0|[0.04112809896469...|  1.3139266491792776|\n",
      "|  0.0|[0.04488547146320...|   1.428542136309762|\n",
      "|  0.0|[0.04636250436306...|-0.49597092327034054|\n",
      "|  0.0|[0.04727581143379...|  0.5368039843037711|\n",
      "|  0.0|[0.04727581143379...|  0.5368039843037711|\n",
      "|  0.0|[0.05273263901472...|  1.7256116791687215|\n",
      "|  0.0|[0.06759351491928...|  0.6902936043071038|\n",
      "|  0.0|[0.07195216417312...|  0.8599777346064111|\n",
      "|  0.0|[0.07837679982185...|  0.9626876824814301|\n",
      "|  0.0|[0.07913661003112...|  1.1979735001765417|\n",
      "|  0.0|[0.08079665899276...| 0.03394383715545579|\n",
      "|  0.0|[0.08114391565322...| 0.24686201907544547|\n",
      "|  0.0|[0.08197927474975...|  0.8872103232513741|\n",
      "|  0.0|[0.09243243932723...| 0.41555581560882865|\n",
      "|  0.0|[0.09779748320579...|  0.8795823113738275|\n",
      "|  0.0|[0.10727192461490...|   2.452710991991764|\n",
      "|  0.0|[0.11569947004318...|  0.0519115631310314|\n",
      "|  0.0|[0.11569947004318...|  0.0519115631310314|\n",
      "|  0.0|[0.11810043454170...|  0.4940197771908712|\n",
      "|  0.0|[0.12593279778957...|    2.13431980318905|\n",
      "|  0.0|[0.13267225027084...|   1.351151332079986|\n",
      "|  0.0|[0.13267225027084...|   1.351151332079986|\n",
      "|  0.0|[0.13332903385162...|  0.5401140504868976|\n",
      "|  0.0|[0.13943662494421...|  1.7862030690139101|\n",
      "|  0.0|[0.15333594381809...| 0.15778071321191545|\n",
      "|  0.0|[0.16639244556427...|  0.5158525719596434|\n",
      "|  0.0|[0.16639244556427...|  0.5158525719596434|\n",
      "|  0.0|[0.18468639254570...|   1.620388177144111|\n",
      "|  0.0|[0.20145782083272...|  1.8470222358910267|\n",
      "|  0.0|[0.20506940782070...|   2.471482941008936|\n",
      "|  0.0|[0.20724362134933...| 0.08913624603173986|\n",
      "|  0.0|[0.22061081230640...|  0.7189122353157029|\n",
      "|  0.0|[0.22061081230640...|  0.7189122353157029|\n",
      "|  0.0|[0.22703544795513...|  0.8216221831907218|\n",
      "|  0.0|[0.26768806576728...|  1.3129989153964532|\n",
      "|  0.0|[0.26958362758159...| 0.18758077158468356|\n",
      "|  0.0|[0.32029087841510...|  1.4437744657696925|\n",
      "|  0.0|[0.36060583591461...|  2.2791616576037494|\n",
      "|  1.0|[-0.3048431426286...|   1.079557109335067|\n",
      "|  1.0|[-0.2544324547052...|  1.0025165541945362|\n",
      "|  1.0|[-0.2414212077856...|  0.7030818225783191|\n",
      "|  1.0|[-0.2349759638309...|  0.3744881767052103|\n",
      "|  1.0|[-0.2330138683319...|-0.48845391109354563|\n",
      "|  1.0|[-0.2072436213493...|   1.632484478681571|\n",
      "|  1.0|[-0.2072436213493...|   1.632484478681571|\n",
      "|  1.0|[-0.1872572451829...| 0.06265602030487305|\n",
      "|  1.0|[-0.1738087832927...|  0.6144156433805751|\n",
      "|  1.0|[-0.1663924455642...|  1.2057681527536677|\n",
      "|  1.0|[-0.1582388877868...|-0.16040958502591762|\n",
      "|  1.0|[-0.1581210494041...| 0.48999273509048147|\n",
      "|  1.0|[-0.1462641954421...|  0.8854993610861223|\n",
      "|  1.0|[-0.1456140354275...|  0.6768890919730235|\n",
      "|  1.0|[-0.1373737379908...|  0.6075408331324009|\n",
      "|  1.0|[-0.1373737379908...|  0.6075408331324009|\n",
      "|  1.0|[-0.1326722502708...| 0.37046939263332523|\n",
      "|  1.0|[-0.1326722502708...| 0.37046939263332523|\n",
      "|  1.0|[-0.1233641207218...| 0.31115943568024085|\n",
      "|  1.0|[-0.1219247579574...|  1.2345606007352334|\n",
      "|  1.0|[-0.1199076250195...|  0.9656207193624741|\n",
      "|  1.0|[-0.1177531778812...|  1.4405191294424298|\n",
      "|  1.0|[-0.1165339350700...|  0.9167595028467538|\n",
      "|  1.0|[-0.1141233444213...|  0.5905670847884334|\n",
      "|  1.0|[-0.1133836805820...|  0.5589268714452306|\n",
      "|  1.0|[-0.1133149340748...|  0.5281842135855548|\n",
      "+-----+--------------------+--------------------+\n",
      "only showing top 200 rows\n",
      "\n"
     ]
    }
   ],
   "source": [
    "train_prediction.show(200)"
   ]
  },
  {
   "cell_type": "code",
   "execution_count": null,
   "metadata": {},
   "outputs": [],
   "source": []
  }
 ],
 "metadata": {
  "kernelspec": {
   "display_name": "Python [Root]",
   "language": "python",
   "name": "Python [Root]"
  },
  "language_info": {
   "codemirror_mode": {
    "name": "ipython",
    "version": 2
   },
   "file_extension": ".py",
   "mimetype": "text/x-python",
   "name": "python",
   "nbconvert_exporter": "python",
   "pygments_lexer": "ipython2",
   "version": "2.7.12"
  }
 },
 "nbformat": 4,
 "nbformat_minor": 1
}
