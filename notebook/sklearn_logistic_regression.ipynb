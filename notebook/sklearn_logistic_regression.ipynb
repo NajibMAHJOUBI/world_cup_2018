{
 "cells": [
  {
   "cell_type": "code",
   "execution_count": 61,
   "metadata": {},
   "outputs": [],
   "source": [
    "import os\n",
    "import pandas as pd\n",
    "\n",
    "from sklearn.model_selection import train_test_split\n",
    "from sklearn.model_selection import GridSearchCV\n",
    "from sklearn.linear_model import LogisticRegression\n",
    "from sklearn.metrics import accuracy_score\n",
    "from sklearn.metrics import classification_report"
   ]
  },
  {
   "cell_type": "code",
   "execution_count": 1,
   "metadata": {},
   "outputs": [],
   "source": [
    "path_data = \"../test/sklearn/training/\""
   ]
  },
  {
   "cell_type": "code",
   "execution_count": 5,
   "metadata": {},
   "outputs": [],
   "source": [
    "data = pd.read_csv(os.path.join(path_data, \"2014.csv\"), sep=\",\", header=0)"
   ]
  },
  {
   "cell_type": "code",
   "execution_count": 6,
   "metadata": {},
   "outputs": [
    {
     "data": {
      "text/html": [
       "<div>\n",
       "<style scoped>\n",
       "    .dataframe tbody tr th:only-of-type {\n",
       "        vertical-align: middle;\n",
       "    }\n",
       "\n",
       "    .dataframe tbody tr th {\n",
       "        vertical-align: top;\n",
       "    }\n",
       "\n",
       "    .dataframe thead th {\n",
       "        text-align: right;\n",
       "    }\n",
       "</style>\n",
       "<table border=\"1\" class=\"dataframe\">\n",
       "  <thead>\n",
       "    <tr style=\"text-align: right;\">\n",
       "      <th></th>\n",
       "      <th>matches</th>\n",
       "      <th>label</th>\n",
       "      <th>diff_points</th>\n",
       "      <th>away</th>\n",
       "      <th>home</th>\n",
       "      <th>neutral</th>\n",
       "      <th>losses</th>\n",
       "      <th>against</th>\n",
       "      <th>for</th>\n",
       "      <th>draws</th>\n",
       "      <th>wins</th>\n",
       "    </tr>\n",
       "  </thead>\n",
       "  <tbody>\n",
       "    <tr>\n",
       "      <th>0</th>\n",
       "      <td>AR/BO_2011/7/1</td>\n",
       "      <td>0.0</td>\n",
       "      <td>0.0</td>\n",
       "      <td>0.032756</td>\n",
       "      <td>0.002676</td>\n",
       "      <td>-0.035431</td>\n",
       "      <td>-0.304048</td>\n",
       "      <td>-0.877752</td>\n",
       "      <td>0.817753</td>\n",
       "      <td>0.004506</td>\n",
       "      <td>0.299542</td>\n",
       "    </tr>\n",
       "    <tr>\n",
       "      <th>1</th>\n",
       "      <td>AR/BO_2011/11/11</td>\n",
       "      <td>0.0</td>\n",
       "      <td>0.0</td>\n",
       "      <td>0.032756</td>\n",
       "      <td>0.002676</td>\n",
       "      <td>-0.035431</td>\n",
       "      <td>-0.304048</td>\n",
       "      <td>-0.877752</td>\n",
       "      <td>0.817753</td>\n",
       "      <td>0.004506</td>\n",
       "      <td>0.299542</td>\n",
       "    </tr>\n",
       "    <tr>\n",
       "      <th>2</th>\n",
       "      <td>CO/BO_2011/7/10</td>\n",
       "      <td>2.0</td>\n",
       "      <td>2.0</td>\n",
       "      <td>0.002950</td>\n",
       "      <td>-0.055155</td>\n",
       "      <td>0.052205</td>\n",
       "      <td>-0.164188</td>\n",
       "      <td>-0.691664</td>\n",
       "      <td>0.136530</td>\n",
       "      <td>0.028377</td>\n",
       "      <td>0.135812</td>\n",
       "    </tr>\n",
       "    <tr>\n",
       "      <th>3</th>\n",
       "      <td>CO/BO_2013/3/22</td>\n",
       "      <td>2.0</td>\n",
       "      <td>5.0</td>\n",
       "      <td>0.002950</td>\n",
       "      <td>-0.055155</td>\n",
       "      <td>0.052205</td>\n",
       "      <td>-0.164188</td>\n",
       "      <td>-0.691664</td>\n",
       "      <td>0.136530</td>\n",
       "      <td>0.028377</td>\n",
       "      <td>0.135812</td>\n",
       "    </tr>\n",
       "    <tr>\n",
       "      <th>4</th>\n",
       "      <td>EC/BO_2012/9/7</td>\n",
       "      <td>2.0</td>\n",
       "      <td>1.0</td>\n",
       "      <td>-0.002653</td>\n",
       "      <td>-0.039169</td>\n",
       "      <td>0.041821</td>\n",
       "      <td>-0.054642</td>\n",
       "      <td>-0.281079</td>\n",
       "      <td>0.079487</td>\n",
       "      <td>0.013882</td>\n",
       "      <td>0.040760</td>\n",
       "    </tr>\n",
       "  </tbody>\n",
       "</table>\n",
       "</div>"
      ],
      "text/plain": [
       "            matches  label  diff_points      away      home   neutral  \\\n",
       "0    AR/BO_2011/7/1    0.0          0.0  0.032756  0.002676 -0.035431   \n",
       "1  AR/BO_2011/11/11    0.0          0.0  0.032756  0.002676 -0.035431   \n",
       "2   CO/BO_2011/7/10    2.0          2.0  0.002950 -0.055155  0.052205   \n",
       "3   CO/BO_2013/3/22    2.0          5.0  0.002950 -0.055155  0.052205   \n",
       "4    EC/BO_2012/9/7    2.0          1.0 -0.002653 -0.039169  0.041821   \n",
       "\n",
       "     losses   against       for     draws      wins  \n",
       "0 -0.304048 -0.877752  0.817753  0.004506  0.299542  \n",
       "1 -0.304048 -0.877752  0.817753  0.004506  0.299542  \n",
       "2 -0.164188 -0.691664  0.136530  0.028377  0.135812  \n",
       "3 -0.164188 -0.691664  0.136530  0.028377  0.135812  \n",
       "4 -0.054642 -0.281079  0.079487  0.013882  0.040760  "
      ]
     },
     "execution_count": 6,
     "metadata": {},
     "output_type": "execute_result"
    }
   ],
   "source": [
    "data.head(5)"
   ]
  },
  {
   "cell_type": "markdown",
   "metadata": {},
   "source": [
    "## Simple logistic regression model"
   ]
  },
  {
   "cell_type": "markdown",
   "metadata": {},
   "source": [
    "### X features"
   ]
  },
  {
   "cell_type": "code",
   "execution_count": 13,
   "metadata": {},
   "outputs": [
    {
     "name": "stdout",
     "output_type": "stream",
     "text": [
      "(2072, 8)\n"
     ]
    }
   ],
   "source": [
    "features_columns = [\"away\", \"home\", \"neutral\", \"losses\", \"against\", \"for\", \"draws\", \"wins\"]\n",
    "\n",
    "X = data.loc[:, features_columns]\n",
    "\n",
    "print(X.shape)"
   ]
  },
  {
   "cell_type": "markdown",
   "metadata": {},
   "source": [
    "### y response"
   ]
  },
  {
   "cell_type": "code",
   "execution_count": 14,
   "metadata": {},
   "outputs": [
    {
     "name": "stdout",
     "output_type": "stream",
     "text": [
      "(2072,)\n"
     ]
    }
   ],
   "source": [
    "y = data.label\n",
    "print(y.shape)"
   ]
  },
  {
   "cell_type": "code",
   "execution_count": 16,
   "metadata": {},
   "outputs": [],
   "source": [
    "X_train, X_test, y_train, y_test = train_test_split(X, y, test_size=0.25, random_state=42)"
   ]
  },
  {
   "cell_type": "code",
   "execution_count": 18,
   "metadata": {},
   "outputs": [
    {
     "name": "stdout",
     "output_type": "stream",
     "text": [
      "((1554, 8), (518, 8))\n",
      "((1554,), (518,))\n"
     ]
    }
   ],
   "source": [
    "print(X_train.shape, X_test.shape)\n",
    "print(y_train.shape, y_test.shape)"
   ]
  },
  {
   "cell_type": "markdown",
   "metadata": {},
   "source": [
    "## scikit-learn model"
   ]
  },
  {
   "cell_type": "code",
   "execution_count": 47,
   "metadata": {},
   "outputs": [
    {
     "data": {
      "text/plain": [
       "LogisticRegression(C=1, class_weight=None, dual=False, fit_intercept=True,\n",
       "          intercept_scaling=1, max_iter=100, multi_class='ovr', n_jobs=1,\n",
       "          penalty='l2', random_state=None, solver='liblinear', tol=0.0001,\n",
       "          verbose=0, warm_start=False)"
      ]
     },
     "execution_count": 47,
     "metadata": {},
     "output_type": "execute_result"
    }
   ],
   "source": [
    "# 2. instantiate model\n",
    "logreg = LogisticRegression(penalty='l2',C=1)\n",
    "\n",
    "# 3. fit \n",
    "logreg.fit(X_train, y_train)"
   ]
  },
  {
   "cell_type": "code",
   "execution_count": 48,
   "metadata": {},
   "outputs": [],
   "source": [
    "# 4. predict\n",
    "pred_train = logreg.predict(X_train)\n",
    "pred_test = logreg.predict(X_test)"
   ]
  },
  {
   "cell_type": "code",
   "execution_count": 49,
   "metadata": {},
   "outputs": [
    {
     "name": "stdout",
     "output_type": "stream",
     "text": [
      "Train accuracy: 0.593951093951\n"
     ]
    }
   ],
   "source": [
    "print(\"Train accuracy: {0}\".format(accuracy_score(y_train, pred_train, normalize=True)))"
   ]
  },
  {
   "cell_type": "code",
   "execution_count": 50,
   "metadata": {},
   "outputs": [
    {
     "name": "stdout",
     "output_type": "stream",
     "text": [
      "Test accuracy: 0.557915057915\n"
     ]
    }
   ],
   "source": [
    "print(\"Test accuracy: {0}\".format(accuracy_score(y_test, pred_test, normalize=True)))"
   ]
  },
  {
   "cell_type": "markdown",
   "metadata": {},
   "source": [
    "### grid search with cross-validation"
   ]
  },
  {
   "cell_type": "code",
   "execution_count": 33,
   "metadata": {},
   "outputs": [],
   "source": [
    "# help(LogisticRegression)"
   ]
  },
  {
   "cell_type": "code",
   "execution_count": 34,
   "metadata": {},
   "outputs": [],
   "source": [
    "# help(GridSearchCV)"
   ]
  },
  {
   "cell_type": "code",
   "execution_count": 73,
   "metadata": {},
   "outputs": [],
   "source": [
    "tuned_parameters = [{'penalty': ['l2'], \n",
    "                     'C': [1, 10, 100, 1000],\n",
    "                     'solver': ['newton-cg', 'sag', 'lbfgs'],\n",
    "                     'fit_intercept': [True, False]},\n",
    "                    {'penalty': ['l1'], \n",
    "                     'C': [4.0, 2.0, 1.333, 1.0],\n",
    "                     'solver': ['liblinear', 'saga'],\n",
    "                     'fit_intercept': [True, False]}]"
   ]
  },
  {
   "cell_type": "code",
   "execution_count": 74,
   "metadata": {},
   "outputs": [],
   "source": [
    "clf = GridSearchCV(LogisticRegression(max_iter=200), tuned_parameters, cv=4,\n",
    "                       scoring='accuracy')"
   ]
  },
  {
   "cell_type": "code",
   "execution_count": 75,
   "metadata": {},
   "outputs": [
    {
     "data": {
      "text/plain": [
       "GridSearchCV(cv=4, error_score='raise',\n",
       "       estimator=LogisticRegression(C=1.0, class_weight=None, dual=False, fit_intercept=True,\n",
       "          intercept_scaling=1, max_iter=200, multi_class='ovr', n_jobs=1,\n",
       "          penalty='l2', random_state=None, solver='liblinear', tol=0.0001,\n",
       "          verbose=0, warm_start=False),\n",
       "       fit_params=None, iid=True, n_jobs=1,\n",
       "       param_grid=[{'penalty': ['l2'], 'C': [1, 10, 100, 1000], 'fit_intercept': [True, False], 'solver': ['newton-cg', 'sag', 'lbfgs']}, {'penalty': ['l1'], 'C': [4.0, 2.0, 1.333, 1.0], 'fit_intercept': [True, False], 'solver': ['liblinear', 'saga']}],\n",
       "       pre_dispatch='2*n_jobs', refit=True, return_train_score='warn',\n",
       "       scoring='accuracy', verbose=0)"
      ]
     },
     "execution_count": 75,
     "metadata": {},
     "output_type": "execute_result"
    }
   ],
   "source": [
    "clf.fit(X_train, y_train)"
   ]
  },
  {
   "cell_type": "code",
   "execution_count": 76,
   "metadata": {},
   "outputs": [
    {
     "name": "stdout",
     "output_type": "stream",
     "text": [
      "{'penalty': 'l2', 'C': 1, 'solver': 'newton-cg', 'fit_intercept': True}\n"
     ]
    }
   ],
   "source": [
    "print(clf.best_params_)"
   ]
  },
  {
   "cell_type": "code",
   "execution_count": 77,
   "metadata": {},
   "outputs": [
    {
     "name": "stdout",
     "output_type": "stream",
     "text": [
      "Train accuracy: 0.593951093951\n"
     ]
    }
   ],
   "source": [
    "y_pred = clf.predict(X_train)\n",
    "print(\"Train accuracy: {0}\".format(accuracy_score(y_train, y_pred, normalize=True)))"
   ]
  },
  {
   "cell_type": "code",
   "execution_count": 80,
   "metadata": {},
   "outputs": [
    {
     "name": "stdout",
     "output_type": "stream",
     "text": [
      "Train accuracy: 0.559845559846\n"
     ]
    }
   ],
   "source": [
    "y_pred = clf.predict(X_test)\n",
    "print(\"Train accuracy: {0}\".format(accuracy_score(y_test, y_pred, normalize=True)))"
   ]
  },
  {
   "cell_type": "code",
   "execution_count": null,
   "metadata": {},
   "outputs": [],
   "source": []
  }
 ],
 "metadata": {
  "kernelspec": {
   "display_name": "Python 2",
   "language": "python",
   "name": "python2"
  },
  "language_info": {
   "codemirror_mode": {
    "name": "ipython",
    "version": 2
   },
   "file_extension": ".py",
   "mimetype": "text/x-python",
   "name": "python",
   "nbconvert_exporter": "python",
   "pygments_lexer": "ipython2",
   "version": "2.7.14"
  }
 },
 "nbformat": 4,
 "nbformat_minor": 2
}
