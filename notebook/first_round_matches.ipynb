{
 "cells": [
  {
   "cell_type": "code",
   "execution_count": 47,
   "metadata": {},
   "outputs": [],
   "source": [
    "from pyspark.sql.types import StructType, StructField, StringType, ArrayType, IntegerType, FloatType\n",
    "from pyspark.sql.functions import udf, col\n",
    "\n",
    "from itertools import combinations\n",
    "import sys\n",
    "sys.path.append(\"../python/\")\n",
    "from featurization_data import FeaturizationData"
   ]
  },
  {
   "cell_type": "code",
   "execution_count": 48,
   "metadata": {},
   "outputs": [
    {
     "name": "stdout",
     "output_type": "stream",
     "text": [
      "+----+-----------+\n",
      "|team|    country|\n",
      "+----+-----------+\n",
      "|  AN|       Aden|\n",
      "|  AF|Afghanistan|\n",
      "|  AL|    Albania|\n",
      "|  DZ|    Algeria|\n",
      "|  AD|    Andorra|\n",
      "+----+-----------+\n",
      "only showing top 5 rows\n",
      "\n"
     ]
    }
   ],
   "source": [
    "schema = StructType([\n",
    "            StructField(\"team\", StringType(), True),\n",
    "            StructField(\"country\", StringType(), True)])\n",
    "teams = spark.read.csv(\"../data/common/en.teams.tsv\", sep=\"\\t\", header=False, schema=schema)\n",
    "teams.show(5)"
   ]
  },
  {
   "cell_type": "code",
   "execution_count": 49,
   "metadata": {},
   "outputs": [
    {
     "name": "stdout",
     "output_type": "stream",
     "text": [
      "+-----+----------+-----+--------+\n",
      "|label|prediction|group| matches|\n",
      "+-----+----------+-----+--------+\n",
      "|  2.0|       2.0|    A|[BR, HR]|\n",
      "|  0.0|       2.0|    A|[BR, MX]|\n",
      "|  2.0|       2.0|    A|[BR, CM]|\n",
      "|  2.0|       2.0|    A|[HR, CM]|\n",
      "|  2.0|       2.0|    A|[MX, CM]|\n",
      "+-----+----------+-----+--------+\n",
      "\n"
     ]
    }
   ],
   "source": [
    "# +-----+----------+-----+--------+\n",
    "# |label|prediction|group| matches|\n",
    "# +-----+----------+-----+--------+\n",
    "\n",
    "data = [(2.0, 2.0, \"A\", [\"BR\", \"HR\"]),\n",
    "(0.0, 2.0, \"A\", [\"BR\", \"MX\"]),\n",
    "(2.0, 2.0, \"A\", [\"BR\", \"CM\"]),\n",
    "(2.0, 2.0, \"A\", [\"HR\", \"CM\"]),\n",
    "(2.0, 2.0, \"A\", [\"MX\", \"CM\"])]\n",
    "\n",
    "data = spark.createDataFrame(data, [\"label\", \"prediction\", \"group\", \"matches\"])\n",
    "data.show()"
   ]
  },
  {
   "cell_type": "code",
   "execution_count": 50,
   "metadata": {},
   "outputs": [],
   "source": [
    "udf_get_team_1 = udf(lambda x: x[0], StringType())\n",
    "udf_get_team_2 = udf(lambda x: x[1], StringType())\n",
    "\n",
    "def result_team_2(result):\n",
    "    if (result == 2):\n",
    "        return 1.0\n",
    "    elif (result == 1):\n",
    "        return 2.0\n",
    "    else:\n",
    "        return 0.0\n",
    "udf_result_team_2 = udf(lambda result: result_team_2(result), FloatType())"
   ]
  },
  {
   "cell_type": "code",
   "execution_count": 51,
   "metadata": {},
   "outputs": [
    {
     "name": "stdout",
     "output_type": "stream",
     "text": [
      "+-----+-------------+-----+--------+------+------+-------------+\n",
      "|label|result_team_1|group| matches|team_1|team_2|result_team_2|\n",
      "+-----+-------------+-----+--------+------+------+-------------+\n",
      "|  2.0|          2.0|    A|[BR, HR]|    BR|    HR|          1.0|\n",
      "|  0.0|          2.0|    A|[BR, MX]|    BR|    MX|          1.0|\n",
      "|  2.0|          2.0|    A|[BR, CM]|    BR|    CM|          1.0|\n",
      "|  2.0|          2.0|    A|[HR, CM]|    HR|    CM|          1.0|\n",
      "|  2.0|          2.0|    A|[MX, CM]|    MX|    CM|          1.0|\n",
      "+-----+-------------+-----+--------+------+------+-------------+\n",
      "\n"
     ]
    }
   ],
   "source": [
    "data = (data\n",
    ".withColumn(\"team_1\", udf_get_team_1(col(\"matches\")))\n",
    ".withColumn(\"team_2\", udf_get_team_2(col(\"matches\")))\n",
    ".withColumn(\"result_team_2\", udf_result_team_2(col(\"prediction\")))\n",
    ".withColumnRenamed(\"prediction\", \"result_team_1\") \n",
    "        \n",
    ")\n",
    "data.show()"
   ]
  },
  {
   "cell_type": "code",
   "execution_count": 52,
   "metadata": {},
   "outputs": [
    {
     "name": "stdout",
     "output_type": "stream",
     "text": [
      "+-----+-------------+-----+--------+------+------+-------------+---------+---------+\n",
      "|label|result_team_1|group| matches|team_1|team_2|result_team_2|country_1|country_2|\n",
      "+-----+-------------+-----+--------+------+------+-------------+---------+---------+\n",
      "|  2.0|          2.0|    A|[BR, HR]|    BR|    HR|          1.0|   Brazil|  Croatia|\n",
      "|  0.0|          2.0|    A|[BR, MX]|    BR|    MX|          1.0|   Brazil|   Mexico|\n",
      "|  2.0|          2.0|    A|[BR, CM]|    BR|    CM|          1.0|   Brazil| Cameroon|\n",
      "|  2.0|          2.0|    A|[HR, CM]|    HR|    CM|          1.0|  Croatia| Cameroon|\n",
      "|  2.0|          2.0|    A|[MX, CM]|    MX|    CM|          1.0|   Mexico| Cameroon|\n",
      "+-----+-------------+-----+--------+------+------+-------------+---------+---------+\n",
      "\n"
     ]
    }
   ],
   "source": [
    "data = (data.join(teams, data.team_1 == teams.team)\n",
    ".withColumnRenamed(\"country\", \"country_1\").drop(\"team\")\n",
    ".join(teams, data.team_2 == teams.team)\n",
    ".withColumnRenamed(\"country\", \"country_2\").drop(\"team\"))\n",
    "\n",
    "data.show()\n",
    " "
   ]
  },
  {
   "cell_type": "code",
   "execution_count": 59,
   "metadata": {},
   "outputs": [
    {
     "name": "stdout",
     "output_type": "stream",
     "text": [
      "[((u'Mexico', 2.0), 1), ((u'Croatia', 2.0), 1), ((u'Brazil', 2.0), 3)]\n",
      "[((u'Croatia', 1.0), 1), ((u'Cameroon', 1.0), 3), ((u'Mexico', 1.0), 1)]\n"
     ]
    }
   ],
   "source": [
    "rdd_team_1 = (data\n",
    "              .groupBy([\"country_1\", \"result_team_1\"]).count()\n",
    "              .rdd\n",
    "              .map(lambda x: ((x[\"country_1\"], x[\"result_team_1\"]), x[\"count\"])))\n",
    "\n",
    "rdd_team_2 = (data\n",
    "              .groupBy([\"country_2\", \"result_team_2\"]).count()\n",
    "              .rdd\n",
    "              .map(lambda x: ((x[\"country_2\"], x[\"result_team_2\"]), x[\"count\"])))\n",
    "\n",
    "print(rdd_team_1.collect())\n",
    "print(rdd_team_2.collect())"
   ]
  },
  {
   "cell_type": "code",
   "execution_count": 67,
   "metadata": {},
   "outputs": [],
   "source": [
    "rdd_union = (rdd_team_1\n",
    "             .union(rdd_team_2)\n",
    "             .reduceByKey(lambda x,y: x + y)\n",
    "             .map(lambda x: (x[0][0], [(x[0][1], x[1])]))\n",
    "             .reduceByKey(lambda x,y: x + y)\n",
    "             .map(lambda x: (x[0], sorted(x[1], key=lambda tup: tup[0], reverse=True))))"
   ]
  },
  {
   "cell_type": "code",
   "execution_count": 68,
   "metadata": {},
   "outputs": [
    {
     "data": {
      "text/plain": [
       "[(u'Brazil', [(2.0, 3)]),\n",
       " (u'Croatia', [(2.0, 1), (1.0, 1)]),\n",
       " (u'Cameroon', [(1.0, 3)]),\n",
       " (u'Mexico', [(2.0, 1), (1.0, 1)])]"
      ]
     },
     "execution_count": 68,
     "metadata": {},
     "output_type": "execute_result"
    }
   ],
   "source": [
    "rdd_union.collect()"
   ]
  },
  {
   "cell_type": "code",
   "execution_count": 69,
   "metadata": {},
   "outputs": [
    {
     "name": "stdout",
     "output_type": "stream",
     "text": [
      "+-----+------------+--------------------+------------+--------------+\n",
      "|group|   country_1|           country_2|   country_3|     country_4|\n",
      "+-----+------------+--------------------+------------+--------------+\n",
      "|    A|      Brazil|             Croatia|      Mexico|      Cameroon|\n",
      "|    B|       Spain|         Netherlands|       Chile|     Australia|\n",
      "|    C|    Colombia|              Greece| Ivory Coast|         Japan|\n",
      "|    D|     Uruguay|          Costa Rica|     England|         Italy|\n",
      "|    E| Switzerland|             Ecuador|      France|      Honduras|\n",
      "|    F|   Argentina| Bosnia and Herze...|        Iran|       Nigeria|\n",
      "|    G|     Germany|            Portugal|       Ghana| United States|\n",
      "|    H|     Belgium|             Algeria|      Russia|   South Korea|\n",
      "+-----+------------+--------------------+------------+--------------+\n",
      "\n"
     ]
    }
   ],
   "source": [
    "schema = StructType([\n",
    "            StructField(\"group\", StringType(), True),\n",
    "            StructField(\"country_1\", StringType(), True),\n",
    "            StructField(\"country_2\", StringType(), True),\n",
    "            StructField(\"country_3\", StringType(), True),\n",
    "            StructField(\"country_4\", StringType(), True)])\n",
    "\n",
    "groups = spark.read.csv(\"../data/groups.csv\", sep=\",\", schema=schema, header=False)\n",
    "\n",
    "groups.show()"
   ]
  },
  {
   "cell_type": "code",
   "execution_count": 73,
   "metadata": {},
   "outputs": [
    {
     "name": "stdout",
     "output_type": "stream",
     "text": [
      "+-----+------------+--------------------+------------+--------------+--------------------+\n",
      "|group|   country_1|           country_2|   country_3|     country_4|                test|\n",
      "+-----+------------+--------------------+------------+--------------+--------------------+\n",
      "|    A|      Brazil|             Croatia|      Mexico|      Cameroon|[ Brazil,  Croati...|\n",
      "|    B|       Spain|         Netherlands|       Chile|     Australia|[ Spain,  Netherl...|\n",
      "|    C|    Colombia|              Greece| Ivory Coast|         Japan|[ Colombia,  Gree...|\n",
      "|    D|     Uruguay|          Costa Rica|     England|         Italy|[ Uruguay,  Costa...|\n",
      "|    E| Switzerland|             Ecuador|      France|      Honduras|[ Switzerland,  E...|\n",
      "|    F|   Argentina| Bosnia and Herze...|        Iran|       Nigeria|[ Argentina,  Bos...|\n",
      "|    G|     Germany|            Portugal|       Ghana| United States|[ Germany,  Portu...|\n",
      "|    H|     Belgium|             Algeria|      Russia|   South Korea|[ Belgium,  Alger...|\n",
      "+-----+------------+--------------------+------------+--------------+--------------------+\n",
      "\n"
     ]
    }
   ],
   "source": [
    "udf_list_country = udf(lambda country_1,country_2,country_3,country_4: [country_1, country_2, country_3, country_4], ArrayType(StringType()))\n",
    "groups.withColumn(\"test\", udf_list_country(col(\"country_1\"),col(\"country_2\"),col(\"country_3\"),col(\"country_4\"))).show()"
   ]
  },
  {
   "cell_type": "code",
   "execution_count": null,
   "metadata": {},
   "outputs": [],
   "source": []
  },
  {
   "cell_type": "code",
   "execution_count": null,
   "metadata": {},
   "outputs": [],
   "source": []
  },
  {
   "cell_type": "code",
   "execution_count": null,
   "metadata": {},
   "outputs": [],
   "source": []
  },
  {
   "cell_type": "code",
   "execution_count": null,
   "metadata": {},
   "outputs": [],
   "source": []
  }
 ],
 "metadata": {
  "kernelspec": {
   "display_name": "Python 2",
   "language": "python",
   "name": "python2"
  },
  "language_info": {
   "codemirror_mode": {
    "name": "ipython",
    "version": 2
   },
   "file_extension": ".py",
   "mimetype": "text/x-python",
   "name": "python",
   "nbconvert_exporter": "python",
   "pygments_lexer": "ipython2",
   "version": "2.7.14"
  }
 },
 "nbformat": 4,
 "nbformat_minor": 1
}
