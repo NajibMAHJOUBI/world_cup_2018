{
 "cells": [
  {
   "cell_type": "markdown",
   "metadata": {},
   "source": [
    "## Import libraries"
   ]
  },
  {
   "cell_type": "code",
   "execution_count": 54,
   "metadata": {},
   "outputs": [],
   "source": [
    "# pyspark libraries\n",
    "from pyspark.sql.types import StructType, StructField, StringType, IntegerType, BooleanType, FloatType\n",
    "from pyspark.sql.functions import col, udf, when\n",
    "# Python libraries\n",
    "import numpy as np\n",
    "import matplotlib.pyplot as plt\n",
    "%matplotlib inline"
   ]
  },
  {
   "cell_type": "markdown",
   "metadata": {},
   "source": [
    "## User Defined Functions"
   ]
  },
  {
   "cell_type": "code",
   "execution_count": 3,
   "metadata": {},
   "outputs": [],
   "source": [
    "def convert_string_to_float(x):\n",
    "    x_replace_minus = x.replace(u'\\u2212', '-')\n",
    "    if x_replace_minus == '-':\n",
    "        return np.nan\n",
    "    else:\n",
    "        return float(x_replace_minus)\n",
    "\n",
    "udf_convert_string_to_float = udf(lambda x: convert_string_to_float(x), FloatType())"
   ]
  },
  {
   "cell_type": "code",
   "execution_count": 20,
   "metadata": {},
   "outputs": [],
   "source": [
    "def get_date_string(date, month, year):\n",
    "    return year + \"/\" + month + \"/\" + date\n",
    "\n",
    "udf_get_date_string = udf(lambda date, month, year: get_date_string(date, month, year), StringType())"
   ]
  },
  {
   "cell_type": "code",
   "execution_count": 80,
   "metadata": {},
   "outputs": [],
   "source": [
    "def win_team_1(score_team_1, score_team_2):\n",
    "    if score_team_1 > score_team_2:\n",
    "        return 1\n",
    "    elif score_team_1 < score_team_2:\n",
    "        return 0\n",
    "    else:\n",
    "        return -1\n",
    "    \n",
    "udf_win_team_1 = udf(lambda team_1, team_2: win_team_1(team_1, team_2), IntegerType())"
   ]
  },
  {
   "cell_type": "markdown",
   "metadata": {},
   "source": [
    "## Dataset: Teams"
   ]
  },
  {
   "cell_type": "code",
   "execution_count": 4,
   "metadata": {},
   "outputs": [],
   "source": [
    "schema = StructType([\n",
    "    StructField(\"id\", StringType(), True),\n",
    "    StructField(\"country\", StringType(), True)])\n",
    "teams = spark.read.csv(\"../data/AFC/en.teams.tsv\", sep=\"\\t\", header=False, schema=schema)"
   ]
  },
  {
   "cell_type": "code",
   "execution_count": 6,
   "metadata": {},
   "outputs": [
    {
     "name": "stdout",
     "output_type": "stream",
     "text": [
      "Dataset teams format: [('id', 'string'), ('country', 'string')]\n",
      "Number of country: 313\n",
      "Preview of the dataset:\n",
      "+---+-----------+\n",
      "| id|    country|\n",
      "+---+-----------+\n",
      "| AN|       Aden|\n",
      "| AF|Afghanistan|\n",
      "| AL|    Albania|\n",
      "+---+-----------+\n",
      "only showing top 3 rows\n",
      "\n"
     ]
    }
   ],
   "source": [
    "print(\"Dataset teams format: {0}\".format(teams.dtypes))\n",
    "print(\"Number of country: {0}\".format(teams.count()))\n",
    "# Check if some countries are identified with the same id\n",
    "# print(\"Country with similar id string:\")\n",
    "# teams.groupBy(\"id\").count().filter(col(\"count\") != 1).show()\n",
    "print(\"Preview of the dataset:\")\n",
    "teams.show(3)"
   ]
  },
  {
   "cell_type": "markdown",
   "metadata": {},
   "source": [
    "## Dataset: 2014_World_Cup_AFC_qualifying_start"
   ]
  },
  {
   "cell_type": "code",
   "execution_count": 8,
   "metadata": {},
   "outputs": [],
   "source": [
    "schema = StructType([\n",
    "    StructField(\"rankGroup_local\", StringType(), True),\n",
    "    StructField(\"rankGroup_global\", StringType(), True),\n",
    "    StructField(\"teamGroup_team\", StringType(), True),\n",
    "    StructField(\"ratingGroup_rating\", StringType(), True),\n",
    "    StructField(\"highestGroup_rank_max\", StringType(), True),\n",
    "    StructField(\"highestGroup_rating_max\", StringType(), True),\n",
    "    StructField(\"averageGroup_rank_avg\", StringType(), True),\n",
    "    StructField(\"averageGroup_rating_avg\", StringType(), True),\n",
    "    StructField(\"lowestGroup_rank_min\", StringType(), True),\n",
    "    StructField(\"lowestGroup_rating_min\", StringType(), True),\n",
    "    StructField(\"change3mGroup_rank_three_month_change\", StringType(), True),\n",
    "    StructField(\"change3mGroup_rating_three_month_change\", StringType(), True),\n",
    "    StructField(\"change6mGroup_rank_six_month_change\", StringType(), True),\n",
    "    StructField(\"change6mGroup_rating_six_month_change\", StringType(), True),\n",
    "    StructField(\"change1yGroup_rank_one_year_change\", StringType(), True),\n",
    "    StructField(\"change1yGroup_rating_one_year_change\", StringType(), True),\n",
    "    StructField(\"change2yGroup_rank_two_year_change\", StringType(), True),\n",
    "    StructField(\"change2yGroup_rating_two_year_change\", StringType(), True),\n",
    "    StructField(\"change5yGroup_rank_five_year_change\", StringType(), True),\n",
    "    StructField(\"change5yGroup_rating_five_year_change\", StringType(), True),\n",
    "    StructField(\"change10yGroup_rank_ten_year_change\", StringType(), True),\n",
    "    StructField(\"change10yGroup_rating_ten_year_change\", StringType(), True),\n",
    "    StructField(\"matchesGroup_total\", StringType(), True),\n",
    "    StructField(\"matchesGroup_home\", StringType(), True),\n",
    "    StructField(\"matchesGroup_away\", StringType(), True),\n",
    "    StructField(\"matchesGroup_neutral\", StringType(), True),\n",
    "    StructField(\"matchesGroup_wins\", StringType(), True),\n",
    "    StructField(\"matchesGroup_losses\", StringType(), True),\n",
    "    StructField(\"matchesGroup_draws\", StringType(), True),\n",
    "    StructField(\"goalsGroup_for\", StringType(), True),\n",
    "    StructField(\"goalsGroup_against\", StringType(), True)\n",
    "])\n",
    "\n",
    "names_to_convert = schema.names\n",
    "names_to_convert.remove(\"teamGroup_team\")\n",
    "\n",
    "\n",
    "AFC_qualifying_start = spark.read.csv(\"../data/AFC/2014_World_Cup_AFC_qualifying_start.tsv\", sep=\"\\t\", \n",
    "                                      schema=schema, header=False)\\\n",
    "                                 .select([udf_convert_string_to_float(col(name)).alias(name) for name in names_to_convert] + [\"teamGroup_team\"])"
   ]
  },
  {
   "cell_type": "code",
   "execution_count": 9,
   "metadata": {},
   "outputs": [
    {
     "name": "stdout",
     "output_type": "stream",
     "text": [
      "Number of teams with available statistic: 43\n"
     ]
    }
   ],
   "source": [
    "print(\"Number of teams with available statistic: {0}\".format(AFC_qualifying_start.count()))"
   ]
  },
  {
   "cell_type": "markdown",
   "metadata": {},
   "source": [
    "### Where the matches are played"
   ]
  },
  {
   "cell_type": "code",
   "execution_count": 65,
   "metadata": {},
   "outputs": [
    {
     "data": {
      "image/png": "[encoded data removed]",
      "text/plain": [
       "<matplotlib.figure.Figure at 0x7f60a9d1c250>"
      ]
     },
     "metadata": {},
     "output_type": "display_data"
    }
   ],
   "source": [
    "matches_group = AFC_qualifying_start\\\n",
    ".select(\"matchesGroup_total\", \"matchesGroup_home\", \"matchesGroup_away\", \"matchesGroup_neutral\")\\\n",
    ".rdd\\\n",
    ".map(lambda x: (x[\"matchesGroup_total\"], x[\"matchesGroup_home\"], x[\"matchesGroup_away\"], x[\"matchesGroup_neutral\"]))\\\n",
    ".collect()\n",
    "\n",
    "total = map(lambda x: x[0], matches_group)\n",
    "home = map(lambda x: x[1], matches_group)\n",
    "away = map(lambda x: x[2], matches_group)\n",
    "neutral = map(lambda x: x[3], matches_group)\n",
    "\n",
    "fig, ax = plt.subplots(nrows=2, ncols=2, figsize=(15,15));\n",
    "ax[0][0].hist(total);\n",
    "ax[0][0].set_title(\"Total number of matches\");\n",
    "\n",
    "ax[0][1].hist(home);\n",
    "ax[0][1].set_title(\"Total number of matches played at home\");\n",
    "\n",
    "ax[1][0].hist(away);\n",
    "ax[1][0].set_title(\"Total number of matches played away\");\n",
    "\n",
    "ax[1][1].hist(neutral);\n",
    "ax[1][1].set_title(\"Total number of matches played in a neutral place\");"
   ]
  },
  {
   "cell_type": "markdown",
   "metadata": {},
   "source": [
    "### Wins/Losses/Draws matches"
   ]
  },
  {
   "cell_type": "code",
   "execution_count": 77,
   "metadata": {},
   "outputs": [
    {
     "data": {
      "image/png": "[encoded data removed]",
      "text/plain": [
       "<matplotlib.figure.Figure at 0x7f60a9f99b10>"
      ]
     },
     "metadata": {},
     "output_type": "display_data"
    }
   ],
   "source": [
    "wins_losses_draws = AFC_qualifying_start.select(\"matchesGroup_wins\", \"matchesGroup_losses\", \"matchesGroup_draws\")\\\n",
    "    .rdd\\\n",
    "    .map(lambda x: (x[\"matchesGroup_wins\"], x[\"matchesGroup_losses\"], x[\"matchesGroup_draws\"]))\\\n",
    "    .collect()\n",
    "    \n",
    "wins = map(lambda x: x[0], wins_losses_draws)\n",
    "losses = map(lambda x: x[1], wins_losses_draws)\n",
    "draws = map(lambda x: x[2], wins_losses_draws)\n",
    "\n",
    "fig, ax = plt.subplots(nrows=1, ncols=3, figsize=(12.5,10));\n",
    "ax[0].hist(wins, alpha=0.5, bins=10, label=\"wins\");\n",
    "ax[1].hist(losses, alpha=0.5, bins=10, label=\"losses\");\n",
    "ax[2].hist(draws, alpha=0.5, bins=10, label=\"draws\");\n",
    "ax[0].set_title(\"Wins\");\n",
    "ax[1].set_title(\"Losses\");\n",
    "ax[2].set_title(\"Draws\");"
   ]
  },
  {
   "cell_type": "markdown",
   "metadata": {},
   "source": [
    "## Dataset: 2014_World_Cup_AFC_qualifying_results"
   ]
  },
  {
   "cell_type": "code",
   "execution_count": 34,
   "metadata": {},
   "outputs": [],
   "source": [
    "schema = StructType([\n",
    "    StructField(\"year\", StringType(), True),\n",
    "    StructField(\"month\", StringType(), True),\n",
    "    StructField(\"date\", StringType(), True),\n",
    "    StructField(\"team_1\", StringType(), True),\n",
    "    StructField(\"team_2\", StringType(), True),\n",
    "    StructField(\"score_team_1\", IntegerType(), True),\n",
    "    StructField(\"score_team_2\", IntegerType(), True),\n",
    "    StructField(\"tournament\", StringType(), True),\n",
    "    StructField(\"country_played\", StringType(), True),\n",
    "    StructField(\"rating_moved\", StringType(), True),\n",
    "    StructField(\"rating_team_1\", StringType(), True),\n",
    "    StructField(\"rating_team_2\", StringType(), True),\n",
    "    StructField(\"rank_moved_team_1\", StringType(), True),\n",
    "    StructField(\"rank_moved_team_2\", StringType(), True),\n",
    "    StructField(\"rank_team_1\", StringType(), True),\n",
    "    StructField(\"rank_team_2\", StringType(), True)\n",
    "])\n",
    "\n",
    "AFC_qualifying_results = spark.read.csv(\"../data/AFC/2014_World_Cup_AFC_qualifying_results.tsv\", sep=\"\\t\", \n",
    "                                        schema=schema, header=False)\\\n",
    "                              .withColumn(\"new_date\", udf_get_date_string(col(\"date\"), col(\"month\"), col(\"year\")))\\\n",
    "                              .drop(\"date\").drop(\"month\").drop(\"year\").withColumnRenamed(\"new_date\", \"date\")\n",
    "\n",
    "names_to_convert = AFC_qualifying_results.schema.names\n",
    "names_to_remove = [\"date\",  \"team_1\", \"team_2\", \"score_team_1\", \"score_team_2\", \"tournament\", \"country_played\"]\n",
    "for name in names_to_remove: names_to_convert.remove(name)\n",
    "\n",
    "\n",
    "AFC_qualifying_results = AFC_qualifying_results\\\n",
    "                         .select([udf_convert_string_to_float(col(name)).alias(name) for name in names_to_convert] + names_to_remove)    "
   ]
  },
  {
   "cell_type": "code",
   "execution_count": 35,
   "metadata": {},
   "outputs": [
    {
     "name": "stdout",
     "output_type": "stream",
     "text": [
      "root\n",
      " |-- rating_moved: float (nullable = true)\n",
      " |-- rating_team_1: float (nullable = true)\n",
      " |-- rating_team_2: float (nullable = true)\n",
      " |-- rank_moved_team_1: float (nullable = true)\n",
      " |-- rank_moved_team_2: float (nullable = true)\n",
      " |-- rank_team_1: float (nullable = true)\n",
      " |-- rank_team_2: float (nullable = true)\n",
      " |-- date: string (nullable = true)\n",
      " |-- team_1: string (nullable = true)\n",
      " |-- team_2: string (nullable = true)\n",
      " |-- score_team_1: integer (nullable = true)\n",
      " |-- score_team_2: integer (nullable = true)\n",
      " |-- tournament: string (nullable = true)\n",
      " |-- country_played: string (nullable = true)\n",
      "\n"
     ]
    }
   ],
   "source": [
    "AFC_qualifying_results.printSchema()"
   ]
  },
  {
   "cell_type": "code",
   "execution_count": 84,
   "metadata": {},
   "outputs": [],
   "source": [
    "AFC_qualifying_results = AFC_qualifying_results.select(\"team_1\", \"team_2\", \"score_team_1\", \"score_team_2\")\\\n",
    ".withColumn(\"win_team_1\", udf_win_team_1(col(\"score_team_1\"), col(\"score_team_2\")))"
   ]
  },
  {
   "cell_type": "code",
   "execution_count": 85,
   "metadata": {},
   "outputs": [
    {
     "name": "stdout",
     "output_type": "stream",
     "text": [
      "+----------+-----+\n",
      "|win_team_1|count|\n",
      "+----------+-----+\n",
      "|        -1|  166|\n",
      "|         1|  445|\n",
      "|         0|  111|\n",
      "+----------+-----+\n",
      "\n"
     ]
    }
   ],
   "source": [
    "AFC_qualifying_results.groupBy(\"win_team_1\").count().show()"
   ]
  },
  {
   "cell_type": "code",
   "execution_count": null,
   "metadata": {},
   "outputs": [],
   "source": []
  }
 ],
 "metadata": {
  "kernelspec": {
   "display_name": "Python [Root]",
   "language": "python",
   "name": "Python [Root]"
  },
  "language_info": {
   "codemirror_mode": {
    "name": "ipython",
    "version": 2
   },
   "file_extension": ".py",
   "mimetype": "text/x-python",
   "name": "python",
   "nbconvert_exporter": "python",
   "pygments_lexer": "ipython2",
   "version": "2.7.12"
  }
 },
 "nbformat": 4,
 "nbformat_minor": 1
}
