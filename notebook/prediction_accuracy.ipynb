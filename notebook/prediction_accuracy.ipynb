{
 "cells": [
  {
   "cell_type": "code",
   "execution_count": 4,
   "metadata": {},
   "outputs": [],
   "source": [
    "import os\n",
    "import pandas as pd"
   ]
  },
  {
   "cell_type": "code",
   "execution_count": 12,
   "metadata": {},
   "outputs": [],
   "source": [
    "year = 2014\n",
    "path_prediction = os.path.join(\"../test/prediction/stacking\", str(year))\n",
    "stages = [\"1st_stage\", \"2nd_stage\", \"3rd_stage\", \"4th_stage\", \"5th_stage\", \"6th_stage\"]\n",
    "stacking_models = sorted(os.listdir(os.path.join(path_prediction, stages[0])))\n",
    "stacking_classifiers = [\"decision_tree\", \"random_forest\", \"logistic_regression\"]"
   ]
  },
  {
   "cell_type": "code",
   "execution_count": 34,
   "metadata": {},
   "outputs": [
    {
     "name": "stdout",
     "output_type": "stream",
     "text": [
      "Classifier: decision_tree\n",
      "part-00000-980b0c73-8572-4e71-9148-b3ac482f9e12-c000.csv\n",
      "part-00000-5a3cea17-ca83-4f83-bb12-4f5c48e381ea-c000.csv\n",
      "part-00000-b57fc080-f9a8-46f4-9022-304cdf76dafc-c000.csv\n",
      "part-00000-bae93be2-2892-41d8-93eb-76991411d203-c000.csv\n",
      "part-00000-d3618fd4-669c-4653-8c82-669b4c77568d-c000.csv\n",
      "part-00000-1fa2f271-f5dc-4ace-9d36-1f7af4280dfb-c000.csv\n",
      "   matches,label,prediction\n",
      "0  BR/HR_2014/06/12,2.0,2.0\n",
      "1  CL/AU_2014/06/13,2.0,1.0\n",
      "2  MX/CM_2014/06/13,2.0,2.0\n",
      "3  NL/ES_2014/06/13,2.0,2.0\n",
      "4  CO/GR_2014/06/14,2.0,0.0\n",
      "{'index': [0L, 1L, 2L, 3L, 4L, 5L, 6L, 7L, 8L, 9L, 10L, 11L, 12L, 13L, 14L, 15L, 16L, 17L, 18L, 19L, 20L, 21L, 22L, 23L, 24L, 25L, 26L, 27L, 28L, 29L, 30L, 31L, 32L, 33L, 34L, 35L, 36L, 37L, 38L, 39L, 40L, 41L, 42L, 43L, 44L, 45L, 46L, 47L, 0L, 1L, 2L, 3L, 4L, 5L, 6L, 7L, 0L, 1L, 2L, 3L, 0L, 1L, 0L, 0L], 'data': [['BR/HR_2014/06/12,2.0,2.0'], ['CL/AU_2014/06/13,2.0,1.0'], ['MX/CM_2014/06/13,2.0,2.0'], ['NL/ES_2014/06/13,2.0,2.0'], ['CO/GR_2014/06/14,2.0,0.0'], ['CR/UY_2014/06/14,2.0,2.0'], ['IT/EN_2014/06/14,2.0,2.0'], ['CI/JP_2014/06/14,2.0,2.0'], ['AR/BA_2014/06/15,2.0,2.0'], ['FR/HN_2014/06/15,2.0,2.0'], ['CH/EC_2014/06/15,2.0,2.0'], ['DE/PT_2014/06/16,2.0,2.0'], ['IR/NG_2014/06/16,0.0,2.0'], ['US/GH_2014/06/16,2.0,2.0'], ['BE/DZ_2014/06/17,2.0,2.0'], ['BR/MX_2014/06/17,0.0,2.0'], ['RU/KR_2014/06/17,0.0,2.0'], ['CL/ES_2014/06/18,2.0,1.0'], ['HR/CM_2014/06/18,2.0,2.0'], ['NL/AU_2014/06/18,2.0,2.0'], ['CO/CI_2014/06/19,2.0,1.0'], ['GR/JP_2014/06/19,0.0,2.0'], ['UY/EN_2014/06/19,2.0,0.0'], ['CR/IT_2014/06/20,2.0,2.0'], ['EC/HN_2014/06/20,2.0,1.0'], ['FR/CH_2014/06/20,2.0,2.0'], ['AR/IR_2014/06/21,2.0,2.0'], ['DE/GH_2014/06/21,0.0,2.0'], ['NG/BA_2014/06/21,2.0,2.0'], ['DZ/KR_2014/06/22,2.0,2.0'], ['BE/RU_2014/06/22,2.0,1.0'], ['PT/US_2014/06/22,0.0,2.0'], ['BR/CM_2014/06/23,2.0,2.0'], ['MX/HR_2014/06/23,2.0,0.0'], ['NL/CL_2014/06/23,2.0,2.0'], ['ES/AU_2014/06/23,2.0,2.0'], ['CO/JP_2014/06/24,2.0,2.0'], ['CR/EN_2014/06/24,0.0,2.0'], ['GR/CI_2014/06/24,2.0,1.0'], ['UY/IT_2014/06/24,2.0,1.0'], ['AR/NG_2014/06/25,2.0,2.0'], ['BA/IR_2014/06/25,2.0,1.0'], ['EC/FR_2014/06/25,0.0,0.0'], ['CH/HN_2014/06/25,2.0,2.0'], ['DZ/RU_2014/06/26,0.0,2.0'], ['BE/KR_2014/06/26,2.0,1.0'], ['DE/US_2014/06/26,2.0,2.0'], ['PT/GH_2014/06/26,2.0,2.0'], ['BR/CL_2014/06/28,0.0,2.0'], ['CO/UY_2014/06/28,2.0,2.0'], ['CR/GR_2014/06/29,0.0,0.0'], ['NL/MX_2014/06/29,2.0,2.0'], ['FR/NG_2014/06/30,2.0,2.0'], ['DE/DZ_2014/06/30,2.0,2.0'], ['AR/CH_2014/07/01,2.0,2.0'], ['BE/US_2014/07/01,2.0,1.0'], ['BR/CO_2014/07/04,2.0,0.0'], ['DE/FR_2014/07/04,2.0,2.0'], ['AR/BE_2014/07/05,2.0,2.0'], ['CR/NL_2014/07/05,0.0,2.0'], ['BR/DE_2014/07/08,1.0,2.0'], ['AR/NL_2014/07/09,0.0,2.0'], ['DE/AR_2014/07/13,2.0,2.0'], ['BR/NL_2014/07/12,1.0,0.0']], 'columns': ['matches,label,prediction']}\n"
     ]
    }
   ],
   "source": [
    "# ~/Documents/world_cup_2018/test/prediction/stacking/2014/1st_stage\n",
    "\n",
    "\n",
    "for classifier in stacking_classifiers[:1]:\n",
    "    print(\"Classifier: {0}\".format(classifier))\n",
    "    list_stages = []\n",
    "    for stage in stages:\n",
    "        for model in stacking_models[:1]:\n",
    "            path = os.path.join(path_prediction, stage, model, classifier)\n",
    "            list_files = os.listdir(path)\n",
    "            csv_file = filter(lambda x: x.endswith(\".csv\"), list_files)[0]\n",
    "            print csv_file\n",
    "    #             print os.listdir(path)\n",
    "            data = pd.read_csv(os.path.join(path, csv_file), path, header=0, delimiter=\";\", index_col=False)\n",
    "#             print data.head(5)\n",
    "            list_stages.append(data)\n",
    "    data_concat = pd.concat(list_stages)\n",
    "    print data_concat.head(5)\n",
    "#     dim(data_concat)\n",
    "    print data_concat.to_dict('split')"
   ]
  },
  {
   "cell_type": "code",
   "execution_count": null,
   "metadata": {},
   "outputs": [],
   "source": []
  }
 ],
 "metadata": {
  "kernelspec": {
   "display_name": "Python 2",
   "language": "python",
   "name": "python2"
  },
  "language_info": {
   "codemirror_mode": {
    "name": "ipython",
    "version": 2
   },
   "file_extension": ".py",
   "mimetype": "text/x-python",
   "name": "python",
   "nbconvert_exporter": "python",
   "pygments_lexer": "ipython2",
   "version": "2.7.14"
  }
 },
 "nbformat": 4,
 "nbformat_minor": 2
}
