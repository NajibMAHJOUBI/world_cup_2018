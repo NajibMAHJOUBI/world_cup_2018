{
 "cells": [
  {
   "cell_type": "code",
   "execution_count": 88,
   "metadata": {
    "collapsed": true
   },
   "outputs": [],
   "source": [
    "from pyspark.sql.types import StructType, StructField, StringType, IntegerType, BooleanType, FloatType\n",
    "from pyspark.sql.functions import col, udf, when\n",
    "\n",
    "import numpy as np"
   ]
  },
  {
   "cell_type": "code",
   "execution_count": 89,
   "metadata": {},
   "outputs": [],
   "source": [
    "def convert_string_to_float(x):\n",
    "    x_replace_minus = x.replace(u'\\u2212', '-')\n",
    "    if x_replace_minus == '-':\n",
    "        return np.nan\n",
    "    else:\n",
    "        return float(x_replace_minus)\n",
    "\n",
    "udf_convert_string_to_float = udf(lambda x: convert_string_to_float(x), FloatType())"
   ]
  },
  {
   "cell_type": "markdown",
   "metadata": {},
   "source": [
    "## Dataset: Teams"
   ]
  },
  {
   "cell_type": "code",
   "execution_count": 84,
   "metadata": {
    "collapsed": true
   },
   "outputs": [],
   "source": [
    "schema = StructType([\n",
    "    StructField(\"id\", StringType(), True),\n",
    "    StructField(\"country\", StringType(), True)])\n",
    "teams = spark.read.csv(\"../data/AFC/en.teams.tsv\", sep=\"\\t\", header=False)"
   ]
  },
  {
   "cell_type": "code",
   "execution_count": 85,
   "metadata": {},
   "outputs": [
    {
     "name": "stdout",
     "output_type": "stream",
     "text": [
      "Dataset teams format: [('_c0', 'string'), ('_c1', 'string')]\n",
      "Number of country: 313\n",
      "Preview of the dataset:\n"
     ]
    },
    {
     "data": {
      "text/plain": [
       "Row(_c0=u'AN', _c1=u'Aden')"
      ]
     },
     "execution_count": 85,
     "metadata": {},
     "output_type": "execute_result"
    }
   ],
   "source": [
    "print(\"Dataset teams format: {0}\".format(teams.dtypes))\n",
    "print(\"Number of country: {0}\".format(teams.count()))\n",
    "# Check if some countries are identified with the same id\n",
    "# print(\"Country with similar id string:\")\n",
    "# teams.groupBy(\"id\").count().filter(col(\"count\") != 1).show()\n",
    "print(\"Preview of the dataset:\")\n",
    "teams.rdd.first()\n"
   ]
  },
  {
   "cell_type": "code",
   "execution_count": 95,
   "metadata": {},
   "outputs": [],
   "source": [
    "schema = StructType([\n",
    "    StructField(\"rankGroup_local\", StringType(), True),\n",
    "    StructField(\"rankGroup_global\", StringType(), True),\n",
    "    StructField(\"teamGroup_team\", StringType(), True),\n",
    "    StructField(\"ratingGroup_rating\", StringType(), True),\n",
    "    StructField(\"highestGroup_rank_max\", StringType(), True),\n",
    "    StructField(\"highestGroup_rating_max\", StringType(), True),\n",
    "    StructField(\"averageGroup_rank_avg\", StringType(), True),\n",
    "    StructField(\"averageGroup_rating_avg\", StringType(), True),\n",
    "    StructField(\"lowestGroup_rank_min\", StringType(), True),\n",
    "    StructField(\"lowestGroup_rating_min\", StringType(), True),\n",
    "    StructField(\"change3mGroup_rank_three_month_change\", StringType(), True),\n",
    "    StructField(\"change3mGroup_rating_three_month_change\", StringType(), True),\n",
    "    StructField(\"change6mGroup_rank_six_month_change\", StringType(), True),\n",
    "    StructField(\"change6mGroup_rating_six_month_change\", StringType(), True),\n",
    "    StructField(\"change1yGroup_rank_one_year_change\", StringType(), True),\n",
    "    StructField(\"change1yGroup_rating_one_year_change\", StringType(), True),\n",
    "    StructField(\"change2yGroup_rank_two_year_change\", StringType(), True),\n",
    "    StructField(\"change2yGroup_rating_two_year_change\", StringType(), True),\n",
    "    StructField(\"change5yGroup_rank_five_year_change\", StringType(), True),\n",
    "    StructField(\"change5yGroup_rating_five_year_change\", StringType(), True),\n",
    "    StructField(\"change10yGroup_rank_ten_year_change\", StringType(), True),\n",
    "    StructField(\"change10yGroup_rating_ten_year_change\", StringType(), True),\n",
    "    StructField(\"matchesGroup_total\", StringType(), True),\n",
    "    StructField(\"matchesGroup_home\", StringType(), True),\n",
    "    StructField(\"matchesGroup_away\", StringType(), True),\n",
    "    StructField(\"matchesGroup_neutral\", StringType(), True),\n",
    "    StructField(\"matchesGroup_wins\", StringType(), True),\n",
    "    StructField(\"matchesGroup_losses\", StringType(), True),\n",
    "    StructField(\"matchesGroup_draws\", StringType(), True),\n",
    "    StructField(\"goalsGroup_for\", StringType(), True),\n",
    "    StructField(\"goalsGroup_against\", StringType(), True)\n",
    "])\n",
    "\n",
    "names_to_convert = schema.names\n",
    "names_to_convert.remove(\"teamGroup_team\")\n",
    "\n",
    "\n",
    "AFC_qualifying_start = spark.read.csv(\"../data/AFC/2014_World_Cup_AFC_qualifying_start.tsv\", sep=\"\\t\", \n",
    "                                      schema=schema, header=False)\\\n",
    "                                 .select([udf_convert_string_to_float(col(name)).alias(name) for name in names_to_convert] + [\"teamGroup_team\"])"
   ]
  },
  {
   "cell_type": "code",
   "execution_count": 99,
   "metadata": {},
   "outputs": [
    {
     "data": {
      "text/plain": [
       "43"
      ]
     },
     "execution_count": 99,
     "metadata": {},
     "output_type": "execute_result"
    }
   ],
   "source": [
    "AFC_qualifying_start.count()"
   ]
  },
  {
   "cell_type": "code",
   "execution_count": null,
   "metadata": {},
   "outputs": [],
   "source": []
  },
  {
   "cell_type": "code",
   "execution_count": null,
   "metadata": {
    "collapsed": true
   },
   "outputs": [],
   "source": []
  }
 ],
 "metadata": {
  "kernelspec": {
   "display_name": "Python 2",
   "language": "python",
   "name": "python2"
  },
  "language_info": {
   "codemirror_mode": {
    "name": "ipython",
    "version": 2
   },
   "file_extension": ".py",
   "mimetype": "text/x-python",
   "name": "python",
   "nbconvert_exporter": "python",
   "pygments_lexer": "ipython2",
   "version": "2.7.13"
  }
 },
 "nbformat": 4,
 "nbformat_minor": 1
}
